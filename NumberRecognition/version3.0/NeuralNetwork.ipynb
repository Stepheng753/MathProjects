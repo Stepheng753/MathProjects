{
 "cells": [
  {
   "cell_type": "markdown",
   "metadata": {},
   "source": [
    "# Neural Networks\n",
    "\n",
    "This notebook shall be based off the following text: \\\n",
    "https://www.youtube.com/watch?v=pauPCy_s0Ok&t=1067s&ab_channel=TheIndependentCode"
   ]
  },
  {
   "cell_type": "code",
   "execution_count": 1,
   "metadata": {},
   "outputs": [
    {
     "name": "stderr",
     "output_type": "stream",
     "text": [
      "2024-05-15 04:12:18.955253: I external/local_tsl/tsl/cuda/cudart_stub.cc:32] Could not find cuda drivers on your machine, GPU will not be used.\n",
      "2024-05-15 04:12:19.220788: I external/local_tsl/tsl/cuda/cudart_stub.cc:32] Could not find cuda drivers on your machine, GPU will not be used.\n",
      "2024-05-15 04:12:20.112207: I tensorflow/core/platform/cpu_feature_guard.cc:210] This TensorFlow binary is optimized to use available CPU instructions in performance-critical operations.\n",
      "To enable the following instructions: AVX2 FMA, in other operations, rebuild TensorFlow with the appropriate compiler flags.\n",
      "2024-05-15 04:12:22.292064: W tensorflow/compiler/tf2tensorrt/utils/py_utils.cc:38] TF-TRT Warning: Could not find TensorRT\n"
     ]
    }
   ],
   "source": [
    "import csv\n",
    "import matplotlib.pyplot as plt\n",
    "import numpy as np\n",
    "from keras.datasets import mnist # type: ignore"
   ]
  },
  {
   "cell_type": "markdown",
   "metadata": {},
   "source": [
    "## Layers\n",
    "\n",
    "<center>\n",
    "    <img src=\"./Assets/Layers.png\" height=150px></img>\n",
    "</center>  "
   ]
  },
  {
   "cell_type": "markdown",
   "metadata": {},
   "source": [
    "Each Layer will take in an input and return an output.  Each output will then be used as the input for the next layer and etc.\n",
    "\n",
    "Each Layer will be of 2 categories: A Dense Layer and an Activation Layer."
   ]
  },
  {
   "cell_type": "markdown",
   "metadata": {},
   "source": [
    "## Forward Propagation\n",
    "\n",
    "The Initial Input will be passed through the Dense Layer and the output will be given to the Activation Layer to then give to the next Dense Layer and so forth.\n",
    "\n",
    "<center>\n",
    "    <img src=\"./Assets/Forward.png\" height=150px></img>\n",
    "</center>  "
   ]
  },
  {
   "cell_type": "markdown",
   "metadata": {},
   "source": [
    "### Dense Layer\n",
    "\n",
    "The Dense Layer will take in an input and return an output.  The Dense Layer will also have its own Weights and Biases, which will be used in Forward Propagation to calculate the Output:\n",
    "\n",
    "$$\n",
    "Y = W \\times X + B = \n",
    "\\begin{bmatrix}\n",
    "y_0 = w_{0,0} x_0 + w_{0,1} x_1 + \\cdots + w_{0,i} x_i + b_{0} \\\\\n",
    "y_1 = w_{1,0} x_0 + w_{1,1} x_1 + \\cdots + w_{1,i} x_i + b_{1} \\\\\n",
    "\\vdots \\\\\n",
    "y_j = w_{j,0} x_0 + w_{j,1} x_1 + \\cdots + w_{j,i} x_i + b_{j} \\\\\n",
    "\\end{bmatrix}\n",
    "$$"
   ]
  },
  {
   "cell_type": "markdown",
   "metadata": {},
   "source": [
    "### Activation Layer\n",
    "\n",
    "The Activation Layer will take in an input and return an output.  The Activation Layer will NOT have its own Weights and Biases.  We will simply use the Input and an Activation Function, $f$, for the Forward Propagation:\n",
    "\n",
    "$$\n",
    "Y = f(X) = \\begin{bmatrix}\n",
    "y_0 = f(x_0) \\\\\n",
    "y_1 = f(x_1) \\\\\n",
    "\\vdots \\\\\n",
    "y_j = f(x_j)\n",
    "\\end{bmatrix}\n",
    "$$"
   ]
  },
  {
   "cell_type": "markdown",
   "metadata": {},
   "source": [
    "## Backward Propagation\n",
    "\n",
    "The Initial Input will be passed through the Last Activation Layer and the output will be given to the previous Dense Layer to then give to the previous Activation Layer and so forth.\n",
    "\n",
    "<center>\n",
    "    <img src=\"./Assets/Backward.png\" height=150px></img>\n",
    "</center>  "
   ]
  },
  {
   "cell_type": "markdown",
   "metadata": {},
   "source": [
    "### Activation Layer\n",
    "\n",
    "The Activation Layer will take in the derivative of the Error Function in respect to the Output given from the Forward Propagation function. It will output the derivative of the Error Function in respect to the Input given from the Forward Propagation function to then give to the previous layer before it.\n",
    "\n",
    "$$\n",
    "\\frac{\\partial E}{\\partial X} = \\frac{\\partial E}{\\partial Y}\\frac{\\partial Y}{\\partial X}\n",
    "$$\n",
    "\n",
    "From the Forward Propagation: we get the Following:\n",
    "\n",
    "$$\n",
    "Y = f(X) = \\begin{bmatrix}\n",
    "y_0 = f(x_0) \\\\\n",
    "y_1 = f(x_1) \\\\\n",
    "\\vdots \\\\\n",
    "y_j = f(x_j)\n",
    "\\end{bmatrix}\n",
    "$$\n",
    "\n",
    "Thus gets us the following:\n",
    "\n",
    "$$\n",
    "\\frac{\\partial E}{\\partial X} = \n",
    "\\begin{bmatrix}\n",
    "\\frac{\\partial E}{\\partial y_0} \\frac{\\partial y_0}{\\partial x_0} +  \\frac{\\partial E}{\\partial y_1} \\frac{\\partial y_1}{\\partial x_0} + \\cdots + \\frac{\\partial E}{\\partial y_j} \\frac{\\partial y_j}{\\partial x_0} \\\\\n",
    "\\frac{\\partial E}{\\partial y_0} \\frac{\\partial y_0}{\\partial x_1} +  \\frac{\\partial E}{\\partial y_1} \\frac{\\partial y_1}{\\partial x_1} + \\cdots + \\frac{\\partial E}{\\partial y_j} \\frac{\\partial y_j}{\\partial x_1} \\\\\n",
    "\\vdots \\\\\n",
    "\\frac{\\partial E}{\\partial y_0} \\frac{\\partial y_0}{\\partial x_2} +  \\frac{\\partial E}{\\partial y_1} \\frac{\\partial y_1}{\\partial x_2} + \\cdots + \\frac{\\partial E}{\\partial y_j} \\frac{\\partial y_j}{\\partial x_2} \\\\\n",
    "\\end{bmatrix} =\n",
    "\\begin{bmatrix}\n",
    "\\frac{\\partial E}{\\partial y_0} \\frac{\\partial y_0}{\\partial x_0} \\\\\n",
    "\\frac{\\partial E}{\\partial y_1} \\frac{\\partial y_1}{\\partial x_1} \\\\\n",
    "\\vdots \\\\\n",
    "\\frac{\\partial E}{\\partial y_j} \\frac{\\partial y_j}{\\partial x_2} \\\\\n",
    "\\end{bmatrix} =\n",
    "\\begin{bmatrix}\n",
    "\\frac{\\partial E}{\\partial y_0} f'(x_0) \\\\\n",
    "\\frac{\\partial E}{\\partial y_1} f'(x_1) \\\\\n",
    "\\vdots \\\\\n",
    "\\frac{\\partial E}{\\partial y_j} f'(x_j)\n",
    "\\end{bmatrix} = \n",
    "\\frac{\\partial E}{\\partial Y} \\odot f'(X)\n",
    "$$\n",
    "\n",
    "From here, we do NOT update the Weights and Biases, because the Weights and Biases are not at this Layer"
   ]
  },
  {
   "cell_type": "markdown",
   "metadata": {},
   "source": [
    "### Dense Layer\n",
    "\n",
    "The Dense Layer will take in the derivative of the Error Function in respect to the Output given from the Forward Propagation function. It will output the derivative of the Error Function in respect to the Input given from the Forward Propagation function to then give to the previous layer before it.\n",
    "\n",
    "$$\n",
    "\\frac{\\partial E}{\\partial X} = \\frac{\\partial E}{\\partial Y}\\frac{\\partial Y}{\\partial X}\n",
    "$$\n",
    "\n",
    "From the Forward Propagation: we get the Following:\n",
    "\n",
    "$$\n",
    "Y = W \\times X + B = \n",
    "\\begin{bmatrix}\n",
    "y_0 = w_{0,0} x_0 + w_{0,1} x_1 + \\cdots + w_{0,i} x_i + b_{0} \\\\\n",
    "y_1 = w_{1,0} x_0 + w_{1,1} x_1 + \\cdots + w_{1,i} x_i + b_{1} \\\\\n",
    "\\vdots \\\\\n",
    "y_j = w_{j,0} x_0 + w_{j,1} x_1 + \\cdots + w_{j,i} x_i + b_{j} \\\\\n",
    "\\end{bmatrix}\n",
    "$$\n",
    "\n",
    "Thus gets us the following:\n",
    "\n",
    "$$\n",
    "\\frac{\\partial E}{\\partial X} = \n",
    "\\begin{bmatrix}\n",
    "\\frac{\\partial E}{\\partial y_0} \\frac{\\partial y_0}{\\partial x_0} +  \\frac{\\partial E}{\\partial y_1} \\frac{\\partial y_1}{\\partial x_0} + \\cdots + \\frac{\\partial E}{\\partial y_j} \\frac{\\partial y_j}{\\partial x_0} \\\\\n",
    "\\frac{\\partial E}{\\partial y_0} \\frac{\\partial y_0}{\\partial x_1} +  \\frac{\\partial E}{\\partial y_1} \\frac{\\partial y_1}{\\partial x_1} + \\cdots + \\frac{\\partial E}{\\partial y_j} \\frac{\\partial y_j}{\\partial x_1} \\\\\n",
    "\\vdots \\\\\n",
    "\\frac{\\partial E}{\\partial y_0} \\frac{\\partial y_0}{\\partial x_i} +  \\frac{\\partial E}{\\partial y_1} \\frac{\\partial y_1}{\\partial x_i} + \\cdots + \\frac{\\partial E}{\\partial y_j} \\frac{\\partial y_j}{\\partial x_i} \\\\\n",
    "\\end{bmatrix} = \n",
    "\\begin{bmatrix}\n",
    "\\frac{\\partial E}{\\partial y_0} w_{0,0} +  \\frac{\\partial E}{\\partial y_1} w_{1,0} + \\cdots + \\frac{\\partial E}{\\partial y_j} w_{j,0} \\\\\n",
    "\\frac{\\partial E}{\\partial y_0} w_{0,1} +  \\frac{\\partial E}{\\partial y_1} w_{1,1} + \\cdots + \\frac{\\partial E}{\\partial y_j} w_{j,1} \\\\\n",
    "\\vdots \\\\\n",
    "\\frac{\\partial E}{\\partial y_0} w_{0,i} +  \\frac{\\partial E}{\\partial y_1} w_{1,i} + \\cdots + \\frac{\\partial E}{\\partial y_j} w_{j,i} \\\\\n",
    "\\end{bmatrix} =\n",
    "W^{T} \\times \\frac{\\partial E}{\\partial Y}\n",
    "$$\n",
    "\n",
    "From here, we can find the derivative of the Error Function in respect to the Weights and Biases:\n",
    "\n",
    "$$\n",
    "\\frac{\\partial E}{\\partial W} = \\frac{\\partial E}{\\partial Y}\\frac{\\partial Y}{\\partial W} = \n",
    "\\begin{bmatrix}\n",
    "\\frac{\\partial E}{\\partial y_0} \\frac{\\partial y_0}{\\partial w_{0,0}} & \\frac{\\partial E}{\\partial y_0} \\frac{\\partial y_0}{\\partial w_{0,1}} & \\cdots & \\frac{\\partial E}{\\partial y_0} \\frac{\\partial y_0}{\\partial w_{0,i}} \\\\\n",
    "\\frac{\\partial E}{\\partial y_1} \\frac{\\partial y_1}{\\partial w_{1,0}} & \\frac{\\partial E}{\\partial y_1} \\frac{\\partial y_1}{\\partial w_{1,1}} & \\cdots & \\frac{\\partial E}{\\partial y_1} \\frac{\\partial y_1}{\\partial w_{1,i}} \\\\\n",
    "\\vdots & \\vdots & \\ddots & \\vdots \\\\\n",
    "\\frac{\\partial E}{\\partial y_j} \\frac{\\partial y_j}{\\partial w_{j,0}} & \\frac{\\partial E}{\\partial y_j} \\frac{\\partial y_j}{\\partial w_{j,1}} & \\cdots & \\frac{\\partial E}{\\partial y_j} \\frac{\\partial y_j}{\\partial w_{j,i}} \\\\\n",
    "\\end{bmatrix} = \n",
    "\\begin{bmatrix}\n",
    "\\frac{\\partial E}{\\partial y_0} x_{0} & \\frac{\\partial E}{\\partial y_0} x_{1} & \\cdots & \\frac{\\partial E}{\\partial y_0} x_{i} \\\\\n",
    "\\frac{\\partial E}{\\partial y_1} x_{0} & \\frac{\\partial E}{\\partial y_1} x_{1} & \\cdots & \\frac{\\partial E}{\\partial y_1} x_{i} \\\\\n",
    "\\vdots & \\vdots & \\ddots & \\vdots \\\\\n",
    "\\frac{\\partial E}{\\partial y_j} x_{0} & \\frac{\\partial E}{\\partial y_j} x_{1} & \\cdots & \\frac{\\partial E}{\\partial y_j} x_{i} \\\\\n",
    "\\end{bmatrix} =\n",
    "\\frac{\\partial E}{\\partial Y} \\times X^{T} \\\\\n",
    "\\frac{\\partial E}{\\partial B} = \\frac{\\partial E}{\\partial Y}\\frac{\\partial Y}{\\partial B} = \n",
    "\\begin{bmatrix}\n",
    "\\frac{\\partial E}{\\partial y_0} \\frac{\\partial y_0}{\\partial b_{0}} \\\\\n",
    "\\frac{\\partial E}{\\partial y_1} \\frac{\\partial y_1}{\\partial b_{1}} \\\\\n",
    "\\vdots \\\\\n",
    "\\frac{\\partial E}{\\partial y_j} \\frac{\\partial y_j}{\\partial b_{j}} \\\\\n",
    "\\end{bmatrix} = \n",
    "\\begin{bmatrix}\n",
    "\\frac{\\partial E}{\\partial y_0} \\\\\n",
    "\\frac{\\partial E}{\\partial y_1} \\\\\n",
    "\\vdots \\\\\n",
    "\\frac{\\partial E}{\\partial y_j} \\\\\n",
    "\\end{bmatrix} =\n",
    "\\frac{\\partial E}{\\partial Y}\n",
    "$$"
   ]
  },
  {
   "cell_type": "markdown",
   "metadata": {},
   "source": [
    "## Functions and Their Derivatives\n",
    "\n",
    "We will now calculate the Error Function, the Activation Function, and their derivatives"
   ]
  },
  {
   "cell_type": "markdown",
   "metadata": {},
   "source": [
    "### Error Function\n",
    "\n",
    "Given our Predicted Output, $Y$ and the Desired Output $Y^*$, we can calculate the Error using the Mean Square Error Function:\n",
    "\n",
    "$$\n",
    "E = MSE = \\frac{1}{j} \\sum\\limits_{n = 0}^{j} (y_n - y_n^*)^2\n",
    "$$\n",
    "\n",
    "Now we can calculate the derivative of the Error Function in respect to the Output, $Y$:\n",
    "\n",
    "$$\n",
    "\\frac{\\partial E}{\\partial Y} = \\begin{bmatrix}\n",
    "\\frac{\\partial E}{\\partial y_0} \\\\\n",
    "\\frac{\\partial E}{\\partial y_1} \\\\\n",
    "\\vdots \\\\\n",
    "\\frac{\\partial E}{\\partial y_j} \\\\\n",
    "\\end{bmatrix} = \n",
    "\\begin{bmatrix}\n",
    "\\frac{2(y_0 - y_0^*)}{j} \\\\\n",
    "\\frac{2(y_1 - y_1^*)}{j} \\\\\n",
    "\\vdots \\\\\n",
    "\\frac{2(y_j - y_j^*)}{j} \\\\\n",
    "\\end{bmatrix} = \n",
    "\\frac{2}{j}\\big(Y - Y^*\\big)\n",
    "$$"
   ]
  },
  {
   "cell_type": "code",
   "execution_count": 2,
   "metadata": {},
   "outputs": [],
   "source": [
    "def MSE(y_pred, y_true):\n",
    "    return np.mean(np.power(y_pred - y_true, 2))\n",
    "\n",
    "def MSE_prime(y_pred, y_true):\n",
    "    return (2 / np.size(y_pred)) * (y_pred - y_true)"
   ]
  },
  {
   "cell_type": "markdown",
   "metadata": {},
   "source": [
    "### Activation Functions\n",
    "\n",
    "We have 2 Activation Functions:"
   ]
  },
  {
   "cell_type": "markdown",
   "metadata": {},
   "source": [
    "#### Sigmoid Function:\n",
    "\n",
    "$$\n",
    "Y = \\sigma(X) = \\frac{1}{1 + e^{-X}} \\qquad \\frac{\\partial Y}{\\partial X} = \\sigma'(X) = \\sigma(X)(1 - \\sigma(X))\n",
    "$$"
   ]
  },
  {
   "cell_type": "code",
   "execution_count": 3,
   "metadata": {},
   "outputs": [],
   "source": [
    "def sigmoid(x):\n",
    "    return 1 / (1 + np.exp(-x))\n",
    "\n",
    "def sigmoid_prime(x):\n",
    "    return sigmoid(x) * (1 - sigmoid(x))"
   ]
  },
  {
   "cell_type": "code",
   "execution_count": 4,
   "metadata": {},
   "outputs": [
    {
     "data": {
      "text/plain": [
       "[<matplotlib.lines.Line2D at 0x7f60fc7b9d50>]"
      ]
     },
     "execution_count": 4,
     "metadata": {},
     "output_type": "execute_result"
    },
    {
     "data": {
      "image/png": "[encoded data removed]",
      "text/plain": [
       "<Figure size 640x480 with 1 Axes>"
      ]
     },
     "metadata": {},
     "output_type": "display_data"
    }
   ],
   "source": [
    "x_vals = np.arange(-10, 11, 1e-3)\n",
    "y_vals = [sigmoid(x) for x in x_vals]\n",
    "\n",
    "plt.grid()\n",
    "plt.plot(x_vals, y_vals)"
   ]
  },
  {
   "cell_type": "markdown",
   "metadata": {},
   "source": [
    "#### Tanh Function\n",
    "\n",
    "$$\n",
    "Y = \\tanh(X) = \\frac{e^{x} - e^{-x}}{e^{x} + e^{-x}} \\qquad \\frac{\\partial Y}{\\partial X} = \\tanh'(X) = 1 - \\tanh^2(X)\n",
    "$$"
   ]
  },
  {
   "cell_type": "code",
   "execution_count": 5,
   "metadata": {},
   "outputs": [],
   "source": [
    "def tanh(x):\n",
    "    return np.tanh(x)\n",
    "\n",
    "def tanh_prime(x):\n",
    "    return 1 - tanh(x) ** 2"
   ]
  },
  {
   "cell_type": "code",
   "execution_count": 6,
   "metadata": {},
   "outputs": [
    {
     "data": {
      "text/plain": [
       "[<matplotlib.lines.Line2D at 0x7f60fc8097d0>]"
      ]
     },
     "execution_count": 6,
     "metadata": {},
     "output_type": "execute_result"
    },
    {
     "data": {
      "image/png": "[encoded data removed]",
      "text/plain": [
       "<Figure size 640x480 with 1 Axes>"
      ]
     },
     "metadata": {},
     "output_type": "display_data"
    }
   ],
   "source": [
    "x_vals = np.arange(-10, 11, 1e-3)\n",
    "y_vals = [tanh(x) for x in x_vals]\n",
    "\n",
    "plt.grid()\n",
    "plt.plot(x_vals, y_vals)"
   ]
  },
  {
   "cell_type": "markdown",
   "metadata": {},
   "source": [
    "## Putting it All Together"
   ]
  },
  {
   "cell_type": "code",
   "execution_count": 7,
   "metadata": {},
   "outputs": [],
   "source": [
    "class Layer:\n",
    "    def __init__(self):\n",
    "        self.input = None\n",
    "        self.output = None\n",
    "\n",
    "    def forward_prop(self, input):\n",
    "        return\n",
    "\n",
    "    def backward_prop(self, output_gradient, learning_rate):\n",
    "        return"
   ]
  },
  {
   "cell_type": "code",
   "execution_count": 8,
   "metadata": {},
   "outputs": [],
   "source": [
    "class Dense(Layer):\n",
    "    def __init__(self, input_height, output_height):\n",
    "        self.weights = np.random.randn(output_height, input_height)\n",
    "        self.biases = np.random.randn(output_height, 1)\n",
    "\n",
    "    def forward_prop(self, input):\n",
    "        self.input = input\n",
    "        return np.matmul(self.weights, self.input) + self.biases\n",
    "\n",
    "    def backward_prop(self, output_gradient, learning_rate):\n",
    "        weights_gradient = np.matmul(output_gradient, self.input.T)\n",
    "        biases_gradient = output_gradient\n",
    "        self.weights -= learning_rate * weights_gradient\n",
    "        self.biases -= learning_rate * biases_gradient\n",
    "        return np.matmul(self.weights.T, output_gradient)"
   ]
  },
  {
   "cell_type": "code",
   "execution_count": 9,
   "metadata": {},
   "outputs": [],
   "source": [
    "class Activation(Layer):\n",
    "    def __init__(self, activation_func, activation_prime_func):\n",
    "        self.activation_func = activation_func\n",
    "        self.activation_prime_func = activation_prime_func\n",
    "\n",
    "    def forward_prop(self, input):\n",
    "        self.input = input\n",
    "        return self.activation_func(self.input)\n",
    "\n",
    "    def backward_prop(self, output_gradient, learning_rate):\n",
    "        return output_gradient * self.activation_prime_func(self.input)"
   ]
  },
  {
   "cell_type": "code",
   "execution_count": 10,
   "metadata": {},
   "outputs": [],
   "source": [
    "class Tanh(Activation):\n",
    "    def __init__(self):\n",
    "        super().__init__(tanh, tanh_prime)"
   ]
  },
  {
   "cell_type": "code",
   "execution_count": 11,
   "metadata": {},
   "outputs": [],
   "source": [
    "class Sigmoid(Activation):\n",
    "    def __init__(self):\n",
    "        super().__init__(sigmoid, sigmoid_prime)"
   ]
  },
  {
   "cell_type": "markdown",
   "metadata": {},
   "source": [
    "## MNIST Number Recognition Test"
   ]
  },
  {
   "cell_type": "code",
   "execution_count": 12,
   "metadata": {},
   "outputs": [],
   "source": [
    "def convertInput(input):\n",
    "    return input.reshape(-1,1)"
   ]
  },
  {
   "cell_type": "code",
   "execution_count": 13,
   "metadata": {},
   "outputs": [],
   "source": [
    "def convertAnswer(answer):\n",
    "    y = np.zeros((10, 1))\n",
    "    y[answer] = 1\n",
    "    return y"
   ]
  },
  {
   "cell_type": "code",
   "execution_count": 14,
   "metadata": {},
   "outputs": [],
   "source": [
    "(X_train, y_train), (X_test, y_test) = mnist.load_data()"
   ]
  },
  {
   "cell_type": "code",
   "execution_count": 15,
   "metadata": {},
   "outputs": [],
   "source": [
    "def train(x_train_vals, y_train_vals, network, epochs = 1000, learning_rate = 0.01):\n",
    "    error_arr = []\n",
    "\n",
    "    for e in range(epochs + 1):\n",
    "        error = 0\n",
    "        for x, y in zip(x_train_vals, y_train_vals):\n",
    "\n",
    "            # Set the Inputs of Each Layer\n",
    "            output = x\n",
    "            for layer in network:\n",
    "                output = layer.forward_prop(output)\n",
    "\n",
    "            # Find Error\n",
    "            error += MSE(output, y)\n",
    "\n",
    "            grad = MSE_prime(output, y)\n",
    "            for layer in reversed(network):\n",
    "                grad = layer.backward_prop(grad, learning_rate)\n",
    "\n",
    "        error /= len(x_train_vals)\n",
    "        error_arr.append(error)\n",
    "        print('Progress: {0:0.2f}% => Error: {1:0.4f}'.format(100 * e / epochs, error), end='\\r')\n",
    "\n",
    "    plt.grid()\n",
    "    plt.plot(error_arr)\n",
    "\n",
    "    return error\n"
   ]
  },
  {
   "cell_type": "code",
   "execution_count": 16,
   "metadata": {},
   "outputs": [
    {
     "name": "stdout",
     "output_type": "stream",
     "text": [
      "Progress: 100.00% => Error: 0.0792\r"
     ]
    },
    {
     "data": {
      "image/png": "[encoded data removed]",
      "text/plain": [
       "<Figure size 640x480 with 1 Axes>"
      ]
     },
     "metadata": {},
     "output_type": "display_data"
    }
   ],
   "source": [
    "x_train_vals = [convertInput(x) for x in X_train[0:1000]]\n",
    "y_train_vals = [convertAnswer(y) for y in y_train[0:1000]]\n",
    "\n",
    "network = [\n",
    "    Dense(x_train_vals[0].size, 16),\n",
    "    Tanh(),\n",
    "    Dense(16, 16),\n",
    "    Tanh(),\n",
    "    Dense(16, 10),\n",
    "    Tanh()\n",
    "]\n",
    "\n",
    "error = train(x_train_vals, y_train_vals, network)"
   ]
  },
  {
   "cell_type": "code",
   "execution_count": 17,
   "metadata": {},
   "outputs": [
    {
     "name": "stdout",
     "output_type": "stream",
     "text": [
      "Saved!\n"
     ]
    }
   ],
   "source": [
    "def saveWB():\n",
    "    for i in range(0, len(network), 2):\n",
    "        with open('Weights/W_' + str(i) + '.csv', 'w+') as csv_file:\n",
    "            csv_writer = csv.writer(csv_file)\n",
    "            csv_writer.writerows(network[i].weights)\n",
    "        with open('Biases/B_' + str(i) + '.csv', 'w+') as csv_file:\n",
    "            csv_writer = csv.writer(csv_file)\n",
    "            csv_writer.writerows(network[i].biases)\n",
    "    return \"Saved!\"\n",
    "\n",
    "if error <= 0.08:\n",
    "    print(saveWB())"
   ]
  },
  {
   "cell_type": "code",
   "execution_count": 18,
   "metadata": {},
   "outputs": [
    {
     "name": "stdout",
     "output_type": "stream",
     "text": [
      "y*:  [[0. 0. 0. 0. 0. 0. 0. 1. 0. 0.]]\n",
      "y:  [[ 0.07855837  0.21565012  0.00807605  0.08752652 -0.05580759  0.12288397\n",
      "   0.04578923  0.29602785 -0.00680694  0.01414969]]\n"
     ]
    }
   ],
   "source": [
    "test_index = np.random.randint(100)\n",
    "x = X_train[test_index].reshape(-1, 1)\n",
    "y = convertAnswer(y_train[test_index])\n",
    "\n",
    "output = convertInput(x)\n",
    "for layer in network:\n",
    "    output = layer.forward_prop(output)\n",
    "\n",
    "print(\"y*: \", y.T)\n",
    "print(\"y: \", output.T)"
   ]
  },
  {
   "cell_type": "markdown",
   "metadata": {},
   "source": [
    "### Attempt at Generic Test Data (2 Hidden Layers)"
   ]
  },
  {
   "cell_type": "code",
   "execution_count": 19,
   "metadata": {},
   "outputs": [],
   "source": [
    "# Indicates Number of Ones from Input by placing 1 on that index value\n",
    "def convertAnswer_2(x):\n",
    "    y = np.zeros((len(x) + 1, 1))\n",
    "    y[x.sum()] = 1\n",
    "    return y"
   ]
  },
  {
   "cell_type": "code",
   "execution_count": 20,
   "metadata": {},
   "outputs": [
    {
     "name": "stdout",
     "output_type": "stream",
     "text": [
      "Progress: 100.00% => Error: 0.1695\r"
     ]
    },
    {
     "data": {
      "text/plain": [
       "0.1695322747344633"
      ]
     },
     "execution_count": 20,
     "metadata": {},
     "output_type": "execute_result"
    },
    {
     "data": {
      "image/png": "[encoded data removed]",
      "text/plain": [
       "<Figure size 640x480 with 1 Axes>"
      ]
     },
     "metadata": {},
     "output_type": "display_data"
    }
   ],
   "source": [
    "x_train_vals_2 = [np.random.randint(2, size=5).reshape(-1,1) for _ in range(31)]\n",
    "y_train_vals_2 = [convertAnswer_2(x) for x in x_train_vals_2]\n",
    "\n",
    "network_2 = [\n",
    "    Dense(x_train_vals_2[0].size, 16),\n",
    "    Tanh(),\n",
    "    Dense(16, 16),\n",
    "    Tanh(),\n",
    "    Dense(16, x_train_vals_2[0].size + 1),\n",
    "    Tanh()\n",
    "]\n",
    "\n",
    "train(x_train_vals_2, y_train_vals_2, network_2)"
   ]
  },
  {
   "cell_type": "code",
   "execution_count": 23,
   "metadata": {},
   "outputs": [
    {
     "name": "stdout",
     "output_type": "stream",
     "text": [
      "y*:  [[0. 0. 0. 1. 0. 0.]]\n",
      "y:  [[-0.04982118 -0.01021586  0.01798749  0.99999978  0.02761133 -0.96434928]]\n"
     ]
    }
   ],
   "source": [
    "x_2 = np.random.randint(2, size=5).reshape(-1,1)\n",
    "y_2 = convertAnswer_2(x_2)\n",
    "\n",
    "output_2 = x_2\n",
    "for layer in network_2:\n",
    "    output_2 = layer.forward_prop(output_2)\n",
    "\n",
    "print(\"y*: \", y_2.T)\n",
    "print(\"y: \", output_2.T)"
   ]
  }
 ],
 "metadata": {
  "kernelspec": {
   "display_name": "base",
   "language": "python",
   "name": "python3"
  },
  "language_info": {
   "codemirror_mode": {
    "name": "ipython",
    "version": 3
   },
   "file_extension": ".py",
   "mimetype": "text/x-python",
   "name": "python",
   "nbconvert_exporter": "python",
   "pygments_lexer": "ipython3",
   "version": "3.1.undefined"
  }
 },
 "nbformat": 4,
 "nbformat_minor": 2
}
