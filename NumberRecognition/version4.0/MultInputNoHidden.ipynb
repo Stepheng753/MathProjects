{
 "cells": [
  {
   "cell_type": "markdown",
   "id": "16283a96",
   "metadata": {},
   "source": [
    "### Multiple Inputs - No Hidden Layers\n",
    "\n",
    "This notebook is designed to work with multiple input layers and no hidden layers.\n",
    "\n",
    "It is intended for educational purposes to demonstrate the basic structure of a neural network.\n"
   ]
  },
  {
   "cell_type": "code",
   "execution_count": 18,
   "id": "1c78c02f",
   "metadata": {},
   "outputs": [],
   "source": [
    "import matplotlib.pyplot as plt\n",
    "import numpy as np"
   ]
  },
  {
   "cell_type": "code",
   "execution_count": 19,
   "id": "14d3793a",
   "metadata": {},
   "outputs": [],
   "source": [
    "def sigmoid(x):\n",
    "    return 1 / (1 + np.exp(-x))\n",
    "\n",
    "def sigmoid_derivative(x):\n",
    "    return sigmoid(x) * (1 - sigmoid(x))"
   ]
  },
  {
   "cell_type": "code",
   "execution_count": 20,
   "id": "406e9688",
   "metadata": {},
   "outputs": [],
   "source": [
    "def row(list):\n",
    "    return np.array(list).reshape(1, -1)\n",
    "\n",
    "def column(list):\n",
    "    return np.array(list).reshape(-1, 1)"
   ]
  },
  {
   "cell_type": "code",
   "execution_count": 21,
   "id": "7bb3f1fe",
   "metadata": {},
   "outputs": [],
   "source": [
    "def z(prev_a, w, b):\n",
    "    return prev_a @ w + b\n",
    "\n",
    "def c(a, y):\n",
    "    return sum(((a - y) ** 2)[0])\n",
    "\n",
    "def dc_da(a, y):\n",
    "    return 2 * (a - y)"
   ]
  },
  {
   "cell_type": "code",
   "execution_count": 22,
   "id": "bec2dcfd",
   "metadata": {},
   "outputs": [],
   "source": [
    "def forward(x, w, b, y):\n",
    "    z_value = z(x, w, b)\n",
    "    a_value = sigmoid(z_value)\n",
    "    c_value = c(a_value, y)\n",
    "    return z_value, a_value, c_value\n",
    "\n",
    "def backward(x, w, b, y, learning_rate=0.1):\n",
    "    z_value, a_value, c_value = forward(x, w, b, y)\n",
    "    dc_da_value = dc_da(a_value, y)\n",
    "    da_dz_value = sigmoid_derivative(z_value)\n",
    "    dz_dw_value = x\n",
    "    delta = dc_da_value * da_dz_value\n",
    "    dc_dw = dz_dw_value.T @ delta\n",
    "    dc_db = delta\n",
    "\n",
    "    w -= learning_rate * dc_dw\n",
    "    b -= learning_rate * dc_db\n",
    "\n",
    "    c_value = forward(x, w, b, y)[2]\n",
    "    print('Updated Cost:', c_value)\n",
    "    return w, b\n"
   ]
  },
  {
   "cell_type": "code",
   "execution_count": 23,
   "id": "1b7a3b01",
   "metadata": {},
   "outputs": [
    {
     "name": "stdout",
     "output_type": "stream",
     "text": [
      "Initial Cost: 0.6209964714666657\n",
      "\n",
      "Updated Cost: 0.5052910016422122\n",
      "Updated Cost: 0.020714948618412665\n",
      "Updated Cost: 0.006082879745971392\n",
      "Updated Cost: 0.00012216913619369238\n",
      "Updated Cost: 3.223664711719316e-05\n",
      "Updated Cost: 1.2421538474430184e-05\n",
      "Updated Cost: 3.965384506553677e-06\n",
      "Updated Cost: 1.424020141127854e-06\n",
      "Updated Cost: 4.787269842526265e-07\n",
      "Updated Cost: 1.6745266326662554e-07\n",
      "Updated Cost: 5.7243795827576836e-08\n",
      "Updated Cost: 1.9836608937691927e-08\n",
      "Updated Cost: 6.819585684603294e-09\n",
      "Updated Cost: 2.355480096797385e-09\n",
      "Updated Cost: 8.113540804084538e-10\n",
      "Updated Cost: 2.799246614371966e-10\n",
      "Updated Cost: 9.648532206399473e-11\n",
      "Updated Cost: 3.3275344249261954e-11\n",
      "Updated Cost: 1.1472082196670193e-11\n",
      "Updated Cost: 3.9558982116777085e-12\n",
      "Updated Cost: 1.3639521517134286e-12\n",
      "Updated Cost: 4.703074269977853e-13\n",
      "Updated Cost: 1.6216148090191598e-13\n",
      "Updated Cost: 5.591437229599785e-14\n",
      "Updated Cost: 1.927939490155156e-14\n",
      "Updated Cost: 6.647628672969093e-15\n",
      "Updated Cost: 2.2921239787198708e-15\n",
      "Updated Cost: 7.903339385014893e-16\n",
      "Updated Cost: 2.725100110598308e-16\n",
      "Updated Cost: 9.396252922616975e-17\n",
      "Updated Cost: 3.239863473189757e-17\n",
      "Updated Cost: 1.1171174667768662e-17\n",
      "Updated Cost: 3.851863732616973e-18\n",
      "Updated Cost: 1.3281374817003545e-18\n",
      "Updated Cost: 4.579469154823592e-19\n",
      "Updated Cost: 1.5790196532608761e-19\n",
      "Updated Cost: 5.444520752758262e-20\n",
      "Updated Cost: 1.8772918485007724e-20\n",
      "Updated Cost: 6.472977819792844e-21\n",
      "Updated Cost: 2.2319058885878353e-21\n",
      "Updated Cost: 7.695719751015075e-22\n",
      "Updated Cost: 2.6535302818120995e-22\n",
      "Updated Cost: 9.149365997807259e-23\n",
      "Updated Cost: 3.154635937095108e-23\n",
      "Updated Cost: 1.0877220745028242e-23\n",
      "Updated Cost: 3.750611702408574e-24\n",
      "Updated Cost: 1.293334572918652e-24\n",
      "Updated Cost: 4.459920407273199e-25\n",
      "Updated Cost: 1.537276819386705e-25\n",
      "Updated Cost: 5.298700122427805e-26\n",
      "y:  [[0.8 0.2]]\n",
      "a:  [[0.8 0.2]]\n"
     ]
    }
   ],
   "source": [
    "def no_hidden_layer():\n",
    "    x = row([5, 6])\n",
    "    w = np.array([[0.2, 0.1], [0.3, 0.4]])\n",
    "    b = row([0.5, 0.6])\n",
    "    y = row([0.8, 0.2])\n",
    "    alpha = 0.5\n",
    "\n",
    "    c_value = forward(x, w, b, y)[2]\n",
    "    print('Initial Cost:', c_value)\n",
    "    print()\n",
    "\n",
    "    for _ in range(50):\n",
    "        w, b = backward(x, w, b, y, learning_rate=alpha)\n",
    "\n",
    "    a_value = forward(x, w, b, y)[1]\n",
    "    print('y: ', y)\n",
    "    print('a: ', a_value)\n",
    "\n",
    "no_hidden_layer()\n"
   ]
  },
  {
   "cell_type": "code",
   "execution_count": null,
   "id": "ed24bf12",
   "metadata": {},
   "outputs": [],
   "source": []
  }
 ],
 "metadata": {
  "kernelspec": {
   "display_name": "base",
   "language": "python",
   "name": "python3"
  },
  "language_info": {
   "codemirror_mode": {
    "name": "ipython",
    "version": 3
   },
   "file_extension": ".py",
   "mimetype": "text/x-python",
   "name": "python",
   "nbconvert_exporter": "python",
   "pygments_lexer": "ipython3",
   "version": "3.12.4"
  }
 },
 "nbformat": 4,
 "nbformat_minor": 5
}
