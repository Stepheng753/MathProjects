{
 "cells": [
  {
   "cell_type": "markdown",
   "metadata": {},
   "source": [
    "# MIT OpenLearning Machine Learning Notes\n",
    "\n",
    "https://openlearninglibrary.mit.edu/courses/course-v1:MITx+6.036+1T2019/course/"
   ]
  },
  {
   "cell_type": "code",
   "execution_count": 2,
   "metadata": {},
   "outputs": [],
   "source": [
    "import numpy as np\n",
    "import matplotlib as plt"
   ]
  },
  {
   "cell_type": "markdown",
   "metadata": {},
   "source": [
    "## Week 0: Self Assessment"
   ]
  },
  {
   "cell_type": "markdown",
   "metadata": {},
   "source": [
    "### Chapter 0"
   ]
  },
  {
   "cell_type": "markdown",
   "metadata": {},
   "source": [
    "3.3) Arrays as lists of lists\n",
    "Write a function ```array_mult``` that takes two two-dimensional arrays and performs a matrix multiplication, return a new two-dimensional array. Each array should be represented as a list of lists, i.e., as a list of rows, as discussed earlier. For example,\n",
    "\n",
    "```python\n",
    ">>> M1 = [[1, 2, 3], [-2, 3, 7]]\n",
    ">>> M2 = [[1,0,0],[0,1,0],[0,0,1]]\n",
    ">>> array_mult(M1, M2)\n",
    "[[1, 2, 3], [-2, 3, 7]]\n",
    "\n",
    ">>> M3 = [[1], [0], [-1]]\n",
    ">>> array_mult(M1, M3)\n",
    "[[-2], [-9]]\n",
    "```"
   ]
  },
  {
   "cell_type": "code",
   "execution_count": 3,
   "metadata": {},
   "outputs": [],
   "source": [
    "def array_mult(A, B):\n",
    "    C = []\n",
    "    for i in range(0, len(A)):\n",
    "        c_row = []\n",
    "        for j in range(0, len(B[0])):\n",
    "            c_row.append(dot(A[i], get_col(B, j)))\n",
    "        C.append(c_row)\n",
    "    return C\n",
    "\n",
    "\n",
    "def get_col(A, col_idx):\n",
    "    col = []\n",
    "    for i in range(len(A)):\n",
    "        col.append(A[i][col_idx])\n",
    "    return col\n",
    "\n",
    "def dot(v1, v2):\n",
    "    sum = 0\n",
    "    for e1,e2 in zip(v1,v2):\n",
    "        sum += e1 * e2\n",
    "    return sum"
   ]
  },
  {
   "cell_type": "code",
   "execution_count": 4,
   "metadata": {},
   "outputs": [
    {
     "name": "stdout",
     "output_type": "stream",
     "text": [
      "Attempt: [[1, 2, 3], [-2, 3, 7]]   \tCorrect: [[1, 2, 3], [-2, 3, 7]]\n",
      "Attempt: [[-2], [-9]]              \tCorrect: [[-2], [-9]]\n"
     ]
    }
   ],
   "source": [
    "M1 = [[1, 2, 3], [-2, 3, 7]]\n",
    "M2 = [[1,0,0],[0,1,0],[0,0,1]]\n",
    "print(('Attempt: ' + str(array_mult(M1, M2))).ljust(35), end='\\t')\n",
    "print('Correct: ' + '[[1, 2, 3], [-2, 3, 7]]')\n",
    "\n",
    "M3 = [[1], [0], [-1]]\n",
    "print(('Attempt: ' + str(array_mult(M1, M3))).ljust(35), end='\\t')\n",
    "print('Correct: ' + '[[-2], [-9]]')"
   ]
  },
  {
   "cell_type": "markdown",
   "metadata": {},
   "source": [
    "## Week 1: Basics"
   ]
  },
  {
   "cell_type": "markdown",
   "metadata": {},
   "source": [
    "### Chapter 1\n",
    "\n",
    "[Chapter_1_Intro.pdf](./MIT_Textbook/Chapter_1_Intro.pdf)"
   ]
  },
  {
   "cell_type": "markdown",
   "metadata": {},
   "source": [
    "### Chapter 2\n",
    "\n",
    "[Chapter_2_Linear_Classifications.pdf](./MIT_Textbook/Chapter_2_Linear_Classifications.pdf)"
   ]
  },
  {
   "cell_type": "markdown",
   "metadata": {},
   "source": [
    "#### Linear Classifications\n",
    "\n",
    "<center>\n",
    "<img src=\"./assets/Week_1/Chapter-2-Linear-Classifications.PNG\" height=400px>\n",
    "<center>"
   ]
  },
  {
   "cell_type": "markdown",
   "metadata": {},
   "source": [
    "Notice that $\\theta^T x + \\theta_0$ can be written as the following:\n",
    "$$\n",
    "\\theta_1 x_1 + \\theta_2 x_2 + \\theta_0\n",
    "$$\n",
    "\n",
    "Thus, the equation of the line above can be written as:\n",
    "$$\n",
    "\\begin{align*}\n",
    "\\theta_1 x_1 + \\theta_2 x_2 + \\theta_0 &= 0 \\\\\n",
    "x_2 &= \\frac{-\\theta_1 x_1 - \\theta_0}{\\theta_2}\n",
    "\\end{align*}\n",
    "$$\n",
    "\n",
    "Plugging in our values, we get:\n",
    "$$\n",
    "x_2 = \\frac{-x_1 - 3}{(3 / 2)} = \\frac{2}{3}x_1 - 2\n",
    "$$"
   ]
  },
  {
   "cell_type": "markdown",
   "metadata": {},
   "source": [
    "Study Question: What is green vector normal to the hyperplane? Specify it as a column vector.\n",
    "$$\n",
    "\\vec{n} = \\theta^T = \\langle -1, 1.5 \\rangle\n",
    "$$\n",
    "\n",
    "Study Question: What change would you have to make to $\\theta, \\theta_0$  if you wanted to have the separating hyperplane in the same place, but to classify all the points labeled '+' in the diagram as negative and all the points labeled '-' in the diagram as positive?\n",
    "\n",
    "We would need to negate $\\theta$ and $\\theta_0$ such that we would get:\n",
    "$$\n",
    "\\begin{align*}\n",
    "-\\theta_1 x_1 - \\theta_2 x_2 - 3 &= 0 \\\\\n",
    "x_2 &= \\frac{-\\theta_1 x_1 - 3}{\\theta_2}\n",
    "\\end{align*}\n",
    "$$\n",
    "This way, you get the same line but the normal vector is inversed:\n",
    "$$\n",
    "\\vec{n} = -\\theta^T = \\langle 1, -1.5 \\rangle\n",
    "$$"
   ]
  },
  {
   "cell_type": "markdown",
   "metadata": {},
   "source": [
    "#### Learning Linear Classifications\n",
    "\n",
    "<center>\n",
    "<img src=\"./assets/Week_1/Chapter-2-Learning-Linear-Classifications.png\" height=150px>\n",
    "<center>"
   ]
  },
  {
   "cell_type": "markdown",
   "metadata": {},
   "source": [
    "Study Question: What do you think happens to $\\mathcal{E}n(h)$, where $h$ is the hypothesis returned by Random-Linear-Classifier, as $k$ is increased?  \n",
    "\n",
    "$\\qquad$ As $k$ increases, we can assume that $\\mathcal{E}n(h)$ will decrease, as it will give us a higher probability of finding the more minimized loss.\n",
    " \n",
    "Study Question: What properties of $D_n$ do you think will have an effect on $\\mathcal{E}n(h)$ ? \n",
    "\n",
    "$\\qquad$ $D_n$ should have no effect on $\\mathcal{E}n(h)$ due to $\\mathcal{E}n(h)$ is completely random."
   ]
  },
  {
   "cell_type": "markdown",
   "metadata": {},
   "source": [
    "#### Evaluating Linear Classifications\n",
    "\n",
    "<center>\n",
    "<img src=\"./assets/Week_1/Chapter-2-Evaluating-Linear-Classifications.png\" height=150px>\n",
    "<center>"
   ]
  },
  {
   "cell_type": "markdown",
   "metadata": {},
   "source": [
    "#### Week 1 Exercises"
   ]
  },
  {
   "cell_type": "markdown",
   "metadata": {},
   "source": [
    "Ex1.1a: \n",
    "\n",
    "In two dimensions, $\\theta = [\\theta_1, \\theta_2]$ can define a hyperplane. Let $\\theta = [1, 2]$. Give a vector that lies on the hyperplane given by the set of all $x \\in \\mathbb{R}^2$ such that $\\theta^Tx = 0$"
   ]
  },
  {
   "cell_type": "markdown",
   "metadata": {},
   "source": [
    "Let $x = [x_1, x_2]$ such that we get the following:\n",
    "$$\n",
    "\\theta^Tx = [\\theta_1, \\theta_2]^T[x_1, x_2] = \\theta_1x_2 + \\theta_2x_2 = 1x_1 + 2x_2 = 0\n",
    "$$\n",
    "\n",
    "Thus we get the solution for $x$ to be $\\mathbf{x = a[2, -1]}$, where a represents a scalar multiple"
   ]
  },
  {
   "cell_type": "markdown",
   "metadata": {},
   "source": [
    "Ex1.1b. \n",
    "\n",
    "Using the same hyperplane, determine a vector that is normal to the hyperplane."
   ]
  },
  {
   "cell_type": "markdown",
   "metadata": {},
   "source": [
    "To find a normal vector to the hyper plane, we can take the vector found in the previous problem and dot product it with $\\hat{n}$ to get 0.\n",
    "$$\n",
    "x \\cdot \\hat{n} = [2, -1] \\cdot [n_1, n_2] = 2n_1 - n_2 = 0\n",
    "$$\n",
    "\n",
    "Thus we get the solution for $\\hat{n}$ to be $\\mathbf{\\hat{n} = [1, 2]}$"
   ]
  },
  {
   "cell_type": "markdown",
   "metadata": {},
   "source": [
    "Ex1.1c. \n",
    "\n",
    "Now, in $d$ dimensions, supply the simplified formula for a unit vector normal to the hyperplane in terms of $\\theta$ where $\\theta \\in \\mathbb{R}^d$"
   ]
  },
  {
   "cell_type": "markdown",
   "metadata": {},
   "source": [
    "We can see that because $\\theta^Tx = 0$, with $x$ being the vector that lies on the hyperplane, $\\theta$.  All vectors normal to $\\theta$ is $\\theta$.  To find the unit vector, we simply get:\n",
    "$$\n",
    "\\mathbf{\\hat{n}} = \\mathbf{\\frac{\\theta}{||\\theta||} }\n",
    "$$"
   ]
  },
  {
   "cell_type": "markdown",
   "metadata": {},
   "source": [
    "Ex1.2a. In two dimensions, let $\\theta = [3,4]$ and $\\theta_0 = 5$. What is the signed perpendicular distance from the hyperplane to the origin? The distance should be positive if the origin is on the positive side of the hyperplane, 0 on the hyperplane and negative otherwise. It may be helpful to draw your own picture of the hyperplane (like the one above but with the right intercepts and slopes) with $\\theta = [3,4]$ and $\\theta_0 = 5$. Hint -Draw a picture"
   ]
  },
  {
   "cell_type": "markdown",
   "metadata": {},
   "source": [
    "We can calculate the distance by finding the unit vector projection of some vector x onto the normal vector. Notice also that $\\theta^Tx + \\theta_0 = 0$ such that $\\theta_0 = -\\theta^Tx = -x \\cdot \\theta$\n",
    "\n",
    "$$\n",
    "D = \\frac{(\\langle 0, 0 \\rangle - x) \\cdot \\theta}{||\\theta||} = \\frac{-x \\cdot \\theta}{||\\theta||} = \\frac{\\theta_0}{||\\theta||} = \\frac{5}{5} = 1\n",
    "$$"
   ]
  },
  {
   "cell_type": "markdown",
   "metadata": {},
   "source": [
    "Ex1.2b: \n",
    "\n",
    "Now, in $d$ dimensions, supply the formula for the signed perpendicular distance from a hyperplane specified by $\\theta$, $\\theta_0$ to the origin."
   ]
  },
  {
   "cell_type": "markdown",
   "metadata": {},
   "source": [
    "We can calculate the unit vector projections to always be for all dimensions $d$:\n",
    "\n",
    "$$\n",
    "D = \\frac{(\\emptyset - x) \\cdot \\theta}{||\\theta||} = \\frac{-x \\cdot \\theta}{||\\theta||} = \\frac{\\theta_0}{||\\theta||}\n",
    "$$"
   ]
  },
  {
   "cell_type": "markdown",
   "metadata": {},
   "source": [
    "2.1) Array\n",
    "\n",
    "Provide an expression that sets $A$ to be a $2 \\times 3$ numpy array (2 rows by 3 columns), containing any values you wish."
   ]
  },
  {
   "cell_type": "code",
   "execution_count": 5,
   "metadata": {},
   "outputs": [
    {
     "name": "stdout",
     "output_type": "stream",
     "text": [
      "[[-1.04664989 -0.06042049 -0.96103977]\n",
      " [ 0.26557797 -1.44402747 -0.88333023]]\n"
     ]
    }
   ],
   "source": [
    "A = 0\n",
    "A = np.random.randn(2, 3)\n",
    "print(A)"
   ]
  },
  {
   "cell_type": "markdown",
   "metadata": {},
   "source": [
    "2.2) Transpose\n",
    "\n",
    "Write a procedure that takes an array and returns the transpose of the array. You can use 'np.transpose' or the '.T', but you may not use a loop."
   ]
  },
  {
   "cell_type": "code",
   "execution_count": 6,
   "metadata": {},
   "outputs": [
    {
     "name": "stdout",
     "output_type": "stream",
     "text": [
      "[[-1.04664989  0.26557797]\n",
      " [-0.06042049 -1.44402747]\n",
      " [-0.96103977 -0.88333023]]\n"
     ]
    }
   ],
   "source": [
    "def tp(A):\n",
    "    return A.T\n",
    "\n",
    "print(tp(A))"
   ]
  },
  {
   "cell_type": "markdown",
   "metadata": {},
   "source": [
    "2.3) Shapes\n",
    "\n",
    "Let A be a $4 \\times 2$ numpy array, B be a $4 \\times 3$ array, and C be a $4 \\times 1$ array. For each of the following expressions, indicate the shape of the result as a tuple of integers (recall python tuples use parentheses, not square brackets, which are for lists, and a tuple of a single object x is written as (x,) with a comma) or \"none\" (as a Python string with quotes) if it is illegal."
   ]
  },
  {
   "cell_type": "code",
   "execution_count": 7,
   "metadata": {},
   "outputs": [],
   "source": [
    "A = np.random.randn(4, 2)\n",
    "B = np.random.randn(4, 3)\n",
    "C = np.random.randn(4, 1)"
   ]
  },
  {
   "cell_type": "code",
   "execution_count": 8,
   "metadata": {},
   "outputs": [
    {
     "name": "stdout",
     "output_type": "stream",
     "text": [
      "(4, 1)\n",
      "\"none\"\n",
      "(1, 1)\n",
      "\"none\"\n",
      "(2, 3)\n",
      "(3,)\n",
      "(4,)\n",
      "(4, 1)\n"
     ]
    }
   ],
   "source": [
    "e23a = C * C\n",
    "# Element Wise Multiplication - (4, 1)\n",
    "print(e23a.shape)\n",
    "\n",
    "try:\n",
    "    e23b = np.dot(C, C)\n",
    "except:\n",
    "    # Dot Product on 2D Matrices results into Matrix Multiplication, thus this is None\n",
    "    print(\"\\\"none\\\"\")\n",
    "\n",
    "e23c = np.dot(np.transpose(C), C)\n",
    "# Dot Product on 2D Matrices results into Matrix Multiplication - (1, 1)\n",
    "print(e23c.shape)\n",
    "\n",
    "try:\n",
    "    e23d = np.dot(A, B)\n",
    "except:\n",
    "    # Dot Product on 2D Matrices results into Matrix Multiplication, thus this is None\n",
    "    print(\"\\\"none\\\"\")\n",
    "\n",
    "e23e = np.dot(A.T, B)\n",
    "# Dot Product on 2D Matrices results into Matrix Multiplication - (2, 3)\n",
    "print(e23e.shape)\n",
    "\n",
    "e23f = np.array([1,2,3])\n",
    "# Arrays are 1D - (3, 1)\n",
    "print(e23f.shape)\n",
    "\n",
    "e23g = A[:,1]\n",
    "# Column 1 as an array - (4, )\n",
    "print(e23g.shape)\n",
    "\n",
    "e23h = A[:,1:2]\n",
    "# Column 1 -> 2 (exclusive) as a 2D Matrix - (4, 1)\n",
    "print(e23h.shape)\n"
   ]
  },
  {
   "cell_type": "markdown",
   "metadata": {},
   "source": [
    "2.4) Row Vector\n",
    "\n",
    "Write a procedure that takes a list of numbers and returns a 2D numpy array representing a row vector containing those numbers."
   ]
  },
  {
   "cell_type": "code",
   "execution_count": 9,
   "metadata": {},
   "outputs": [
    {
     "name": "stdout",
     "output_type": "stream",
     "text": [
      "(1, 3)\n"
     ]
    }
   ],
   "source": [
    "def rv(value_list):\n",
    "    return np.reshape(value_list, (1, len(value_list)))\n",
    "\n",
    "print(rv([1,2,3]).shape)\n"
   ]
  },
  {
   "cell_type": "markdown",
   "metadata": {},
   "source": [
    "2.5) Column Vector\n",
    "\n",
    "Write a procedure that takes a list of numbers and returns a 2D numpy array representing a column vector containing those numbers. You can use the rv procedure."
   ]
  },
  {
   "cell_type": "code",
   "execution_count": 10,
   "metadata": {},
   "outputs": [
    {
     "name": "stdout",
     "output_type": "stream",
     "text": [
      "(3, 1)\n"
     ]
    }
   ],
   "source": [
    "def cv(value_list):\n",
    "    return np.reshape(value_list, (len(value_list), 1))\n",
    "\n",
    "print(cv([1,2,3]).shape)"
   ]
  },
  {
   "cell_type": "markdown",
   "metadata": {},
   "source": [
    "2.6) Length\n",
    "\n",
    "Write a procedure that takes a column vector and returns the vector's Euclidean length (or equivalently, its magnitude) as a scalar. You may not use np.linalg.norm, and you may not use a loop."
   ]
  },
  {
   "cell_type": "code",
   "execution_count": 11,
   "metadata": {},
   "outputs": [
    {
     "name": "stdout",
     "output_type": "stream",
     "text": [
      "2.23606797749979\n"
     ]
    }
   ],
   "source": [
    "def length(col_v):\n",
    "    return np.sqrt(np.dot(col_v.T, col_v)).item()\n",
    "\n",
    "print(length(cv([1,2])))\n"
   ]
  },
  {
   "cell_type": "markdown",
   "metadata": {},
   "source": [
    "2.7) Normalize\n",
    "\n",
    "\n",
    "Write a procedure that takes a column vector and returns a unit vector in the same direction. You may not use a for loop. Use your length procedure from above (you do not need to define it again)."
   ]
  },
  {
   "cell_type": "code",
   "execution_count": 12,
   "metadata": {},
   "outputs": [
    {
     "name": "stdout",
     "output_type": "stream",
     "text": [
      "[[0.4472136 ]\n",
      " [0.89442719]]\n"
     ]
    }
   ],
   "source": [
    "def normalize(col_v):\n",
    "    return col_v / length(col_v)\n",
    "\n",
    "print(normalize(cv([1,2])))"
   ]
  },
  {
   "cell_type": "markdown",
   "metadata": {},
   "source": [
    "2.8) Indexing\n",
    "\n",
    "Write a procedure that takes a 2D array and returns the final column as a two dimensional array. You may not use a for loop."
   ]
  },
  {
   "cell_type": "code",
   "execution_count": 13,
   "metadata": {},
   "outputs": [
    {
     "name": "stdout",
     "output_type": "stream",
     "text": [
      "[[2]\n",
      " [4]]\n"
     ]
    }
   ],
   "source": [
    "def index_final_col(A):\n",
    "    A = np.array(A)\n",
    "    return A[:,len(A[0]) - 1:]\n",
    "\n",
    "print(index_final_col([[7, 2, 2], [4, 3, 4]]))"
   ]
  },
  {
   "cell_type": "markdown",
   "metadata": {},
   "source": [
    "2.9) Representing Data\n",
    "\n",
    "Alice has collected weight and height data of 3 people and has written it down below:\n",
    "\n",
    "Weight, height\n",
    "\n",
    "150, 5.8\n",
    "\n",
    "130, 5.5\n",
    "\n",
    "120, 5.3\n",
    "\n",
    "She wants to put this into a numpy array such that each row represents one individual's height and weight in the order listed. Write code to set data equal to the appropriate numpy array:"
   ]
  },
  {
   "cell_type": "code",
   "execution_count": 14,
   "metadata": {},
   "outputs": [],
   "source": [
    "data = 0\n",
    "data = np.array([[150, 5.8], [130, 5.5], [120, 5.3]])"
   ]
  },
  {
   "cell_type": "markdown",
   "metadata": {},
   "source": [
    "2.10) Matrix multiplication\n",
    "\n",
    "Now she wants to compute the sum of each person's height and weight as a column vector by multiplying data by another numpy array. She has written the following incorrect code to do so and needs your help to fix it:"
   ]
  },
  {
   "cell_type": "code",
   "execution_count": 15,
   "metadata": {},
   "outputs": [
    {
     "data": {
      "text/plain": [
       "array([[155.8],\n",
       "       [135.5],\n",
       "       [125.3]])"
      ]
     },
     "execution_count": 15,
     "metadata": {},
     "output_type": "execute_result"
    }
   ],
   "source": [
    "def transform(data):\n",
    "    return np.dot(data, np.array([1, 1])).reshape(len(data), 1)\n",
    "\n",
    "transform(data)"
   ]
  },
  {
   "cell_type": "markdown",
   "metadata": {},
   "source": [
    "#### Week 1 Homework"
   ]
  },
  {
   "cell_type": "markdown",
   "metadata": {},
   "source": [
    "1.1) General hyperplane, distance to point\n",
    "Let $p$ be an arbitrary point in $R^d$. Give a formula for the signed perpendicular distance from the hyperplane specified by $\\theta, \\theta_0$ to this point $p$.\n",
    "\n",
    "<center>\n",
    "<img src=\"./assets/Week_1/Homework-1.1.png\" height=200px>\n",
    "<center>"
   ]
  },
  {
   "cell_type": "markdown",
   "metadata": {},
   "source": [
    "$$\n",
    "D = \\frac{(p - x) \\cdot \\theta}{||\\theta||} = \\frac{p^T \\cdot \\theta + \\theta_0}{||\\theta||}\n",
    "$$"
   ]
  },
  {
   "cell_type": "markdown",
   "metadata": {},
   "source": [
    "1.2) Code for signed distance!\n",
    "\n",
    "Write a Python function using numpy operations (no loops!) that takes column vectors ($d$ by 1) x and th (of the same dimension) and scalar th0 and returns the signed perpendicular distance (as a 1 by 1 array) from the hyperplane encoded by (th, th0) to $x$. Note that you are allowed to use the \"length\" function defined in previous coding questions (includig week 1 exercises)."
   ]
  },
  {
   "cell_type": "code",
   "execution_count": 16,
   "metadata": {},
   "outputs": [
    {
     "name": "stdout",
     "output_type": "stream",
     "text": [
      "(2, 1)\n",
      "(2, 1)\n",
      "()\n",
      "[[-2.6]]\n"
     ]
    }
   ],
   "source": [
    "def signed_dist(x, th, th0):\n",
    "    return (np.dot(x.T, th) + th0) / (length(th))\n",
    "\n",
    "(x,th,th0)=(np.array([[2],[3]]), np.array([[-3],[-4]]), 5)\n",
    "print(np.shape(x))\n",
    "print(np.shape(th))\n",
    "print(np.shape(th0))\n",
    "print(signed_dist(x,th,th0).tolist())"
   ]
  },
  {
   "cell_type": "markdown",
   "metadata": {},
   "source": [
    "1.3) Code for side of hyperplane\n",
    "\n",
    "Write a Python function that takes as input\n",
    "- a column vector x\n",
    "- a column vector th that is of the same dimension as x\n",
    "- a scalar th0\n",
    "\n",
    "and returns\n",
    "\n",
    "- +1 if x is on the positive side of the hyperplane encoded by (th, th0)\n",
    "- 0 if on the hyperplane\n",
    "- -1 otherwise.\n",
    "\n",
    "The answer should be a 2D array (a 1 by 1). Look at the sign function. Note that you are allowed to use any functions defined in week 1's exercises."
   ]
  },
  {
   "cell_type": "code",
   "execution_count": 17,
   "metadata": {},
   "outputs": [
    {
     "name": "stdout",
     "output_type": "stream",
     "text": [
      "[[-1.0]]\n"
     ]
    }
   ],
   "source": [
    "def positive(x, th, th0):\n",
    "    return np.sign(signed_dist(x, th, th0)).T\n",
    "\n",
    "(x,th,th0)=(np.array([[-3],[1]]), np.array([[3],[4]]), -5)\n",
    "print(positive(x,th,th0).tolist())"
   ]
  },
  {
   "cell_type": "markdown",
   "metadata": {},
   "source": [
    "1.4) Expressions operating on data\n",
    "\n",
    "We define data to be a 2 by 5 array (two rows, five columns) of scalars. It represents 5 data points in two dimensions. We also define labels to be a 1 by 5 array (1 row, five columns) of 1 and -1 values."
   ]
  },
  {
   "cell_type": "code",
   "execution_count": 18,
   "metadata": {},
   "outputs": [],
   "source": [
    "data = np.transpose(np.array([[1, 2], [1, 3], [2, 1], [1, -1], [2, -1]]))\n",
    "labels = rv([-1, -1, +1, +1, +1])"
   ]
  },
  {
   "cell_type": "markdown",
   "metadata": {},
   "source": [
    "For each subproblem, provide a Python expression that sets A to the quantity specified. Note that A should always be a 2D numpy array. Only one relatively short expression is needed for each one. No loops!\n",
    "\n",
    "You can use (our version) of the length and positive functions; they are already defined, don't paste in your definitions. Those functions if written purely as matrix operations should work with a 2D data array, not just a single column vector as the first argument, with no change."
   ]
  },
  {
   "cell_type": "markdown",
   "metadata": {},
   "source": [
    "1. A should be a 1 by 5 array of values, either +1, 0 or -1, indicating, for each point in data, whether it is on the positive side of the hyperplane defined by th, th0. Use data, th, th0 as variables in your submission."
   ]
  },
  {
   "cell_type": "code",
   "execution_count": 19,
   "metadata": {},
   "outputs": [
    {
     "name": "stdout",
     "output_type": "stream",
     "text": [
      "[[ 1.  1.  1. -1. -1.]]\n"
     ]
    }
   ],
   "source": [
    "A = positive(data, th, th0)\n",
    "\n",
    "print(A)"
   ]
  },
  {
   "cell_type": "markdown",
   "metadata": {},
   "source": [
    "2. A should be a 1 by 5 array of boolean values, either True or False, indicating for each point in data and corresponding label in labels whether it is correctly classified by hyperplane th = [1, 1], th0 = -2 . That is, return True when the side of the hyperplane (specified by $\\theta, \\theta_0$) that the point is on agrees with the specified label."
   ]
  },
  {
   "cell_type": "code",
   "execution_count": 20,
   "metadata": {},
   "outputs": [
    {
     "name": "stdout",
     "output_type": "stream",
     "text": [
      "[[False False  True False False]]\n"
     ]
    }
   ],
   "source": [
    "A = (positive(data, th, th0) * labels) > 0\n",
    "\n",
    "print(A)"
   ]
  },
  {
   "cell_type": "markdown",
   "metadata": {},
   "source": [
    "1.5) Score\n",
    "\n",
    "Write a procedure that takes as input\n",
    "- data: a d by n array of floats (representing n data points in d dimensions)\n",
    "- labels: a 1 by n array of elements in (+1, -1), representing target labels\n",
    "- th: a d by 1 array of floats that together with\n",
    "- th0: a single scalar or 1 by 1 array, represents a hyperplane\n",
    "\n",
    "and returns the number of points for which the label is equal to the output of the positive function on the point.\n",
    "\n",
    "Since numpy treats False as 0 and True as 1, you can take the sum of a collection of Boolean values directly."
   ]
  },
  {
   "cell_type": "code",
   "execution_count": 21,
   "metadata": {},
   "outputs": [
    {
     "name": "stdout",
     "output_type": "stream",
     "text": [
      "1\n"
     ]
    }
   ],
   "source": [
    "def score(data, labels, th, th0):\n",
    "    return np.sum(positive(data, th, th0) * labels > 0)\n",
    "\n",
    "print(score(data, labels, th, th0))"
   ]
  },
  {
   "cell_type": "markdown",
   "metadata": {},
   "source": [
    "1.6) Best separator\n",
    "\n",
    "Now assume that we have some \"candidate\" classifiers that we want to pick the best one out of. Assume you have $ths$, a $d$ by $m$ array of $m$ candidate $\\theta$'s (each $\\theta$ has dimension $d$ by $1$), and $th0s$, a 1 by $m$ array of the corresponding $m$ candidate $\\theta$'s. Each of the $\\theta, \\theta_0$ pair represents a hyperplane that characterizes a binary classifier.\n",
    "\n",
    "Write a procedure that takes as input\n",
    "- data: a d by n array of floats (representing n data points in d dimensions)\n",
    "- labels: a 1 by n array of elements in (+1, -1), representing target labels\n",
    "- ths: a d by m array of floats representing $m$ candidate $\\theta$'s (each $\\theta$ has dimension d by 1)\n",
    "- th0s: a 1 by m array of the corresponding $m$ candidate $\\theta_0$'s.\n",
    "\n",
    "and finds the hyperplane with the highest score on the data and labels. In case of a tie, return the first hyperplane with the highest score, in the form of\n",
    "- a tuple of a d by 1 array and an offset in the form of 1 by 1 array.\n",
    "\n",
    "The function score that you wrote above was for a single hyperplane separator. Think about how to generalize it to multiple hyperplanes and include this modified (if necessary) definition of score in the answer box."
   ]
  },
  {
   "cell_type": "code",
   "execution_count": 39,
   "metadata": {},
   "outputs": [
    {
     "name": "stdout",
     "output_type": "stream",
     "text": [
      "(array([[0.98645534],\n",
      "       [0.87953335]]), array([[0.65043158]]))\n"
     ]
    }
   ],
   "source": [
    "def signed_dist(x, th, th0):\n",
    "    return (np.dot(x.T, th) + th0) / (np.linalg.norm(th))\n",
    "\n",
    "data = np.array([ 1,  1,  2,  1,  2, 2,  3,  1, -1, -1]).reshape((2,5))\n",
    "labels = np.array([-1, -1,  1, 1,  1]).reshape((1,5))\n",
    "thetas = np.array([ 0.98645534, -0.02061321, -0.30421124, -0.62960452, 0.61617711,  0.17344772, -0.21804797,\n",
    "                   0.26093651,  0.47179699,  0.32548657, 0.87953335,  0.39605039, -0.1105264,\n",
    "                   0.71212565, -0.39195678,  0.00999743, -0.88220145, -0.73546501, -0.7769778, -0.83807759]).reshape((2,10))\n",
    "theta_0s = np.array([ 0.65043158,  0.61626967,  0.84632592, -0.43047804, -0.91768579, -0.3214327,\n",
    "                     0.0682113,  -0.20678004, -0.33963784,  0.74308104]).reshape((1,10))\n",
    "\n",
    "def score_mat(data, labels, ths, th0s):\n",
    "    return np.sum((np.sign(np.dot(ths.T, data)) + th0s.T) == labels, axis=1, keepdims=True)\n",
    "\n",
    "def best_seperator(data, labels, ths, th0s):\n",
    "    best_index = np.argmax(score_mat(data, labels, th, th0s))\n",
    "    return cv(ths[:, best_index]), th0s[:, best_index: best_index + 1]\n",
    "\n",
    "\n",
    "print(best_seperator(data, labels, thetas, theta_0s))"
   ]
  }
 ],
 "metadata": {
  "kernelspec": {
   "display_name": "base",
   "language": "python",
   "name": "python3"
  },
  "language_info": {
   "codemirror_mode": {
    "name": "ipython",
    "version": 3
   },
   "file_extension": ".py",
   "mimetype": "text/x-python",
   "name": "python",
   "nbconvert_exporter": "python",
   "pygments_lexer": "ipython3",
   "version": "3.1.undefined"
  }
 },
 "nbformat": 4,
 "nbformat_minor": 2
}
