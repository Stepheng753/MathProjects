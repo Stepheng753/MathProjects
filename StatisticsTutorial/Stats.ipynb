{
 "cells": [
  {
   "cell_type": "markdown",
   "metadata": {},
   "source": [
    "# Statistics Tutorial\n"
   ]
  },
  {
   "cell_type": "markdown",
   "metadata": {},
   "source": [
    "https://www.youtube.com/playlist?list=PLGLfVvz_LVvQjNJr85J4U_lxDg8vgqvcO \\\n",
    "https://www.newthinktank.com/2020/07/statistics-every-day/\n"
   ]
  },
  {
   "cell_type": "code",
   "execution_count": 2,
   "metadata": {},
   "outputs": [],
   "source": [
    "import numpy as np\n",
    "from matplotlib import pyplot as plt\n",
    "import pandas as pd\n",
    "from statsmodels import api as sm\n",
    "import math\n",
    "import csv"
   ]
  },
  {
   "cell_type": "code",
   "execution_count": 3,
   "metadata": {},
   "outputs": [],
   "source": [
    "def convert_csv_list(filename):\n",
    "    with open(filename, newline=\"\") as csv_file:\n",
    "        reader = csv.reader(csv_file)\n",
    "        list_2d = list(reader)\n",
    "\n",
    "        for row in range(0, len(list_2d)):\n",
    "            for col in range(0, len(list_2d[row])):\n",
    "                try:\n",
    "                    list_2d[row][col] = float(list_2d[row][col].strip())\n",
    "                except:\n",
    "                    continue\n",
    "    return list_2d"
   ]
  },
  {
   "cell_type": "markdown",
   "metadata": {},
   "source": [
    "## Part 1\n",
    "\n",
    "https://www.youtube.com/watch?v=YCPYNXtwKAc&list=PLGLfVvz_LVvQjNJr85J4U_lxDg8vgqvcO&index=1&ab_channel=DerekBanas\n"
   ]
  },
  {
   "cell_type": "markdown",
   "metadata": {},
   "source": [
    "#### Mean: Average of Data Set\n",
    "\n",
    "Mean Population: $\\mu$ \\\n",
    "Mean Sample: $\\bar{x}$\n",
    "\n",
    "$$\n",
    "\\mu = \\frac{1}{N} \\sum_{i = 1}^{N} x_i\n",
    "\\qquad \\qquad\n",
    "\\bar{x} = \\frac{1}{n} \\sum_{i = 1}^{n} x_i\n",
    "$$\n"
   ]
  },
  {
   "cell_type": "code",
   "execution_count": 4,
   "metadata": {},
   "outputs": [
    {
     "name": "stdout",
     "output_type": "stream",
     "text": [
      "Mean:  3.0\n"
     ]
    }
   ],
   "source": [
    "def mean(*args):\n",
    "    val_sum = sum(args)\n",
    "    return val_sum / len(args)\n",
    "\n",
    "print('Mean: ', mean(1,2,3,4,5))"
   ]
  },
  {
   "cell_type": "markdown",
   "metadata": {},
   "source": [
    "#### Median: Number at Center of Data Set\n"
   ]
  },
  {
   "cell_type": "code",
   "execution_count": 5,
   "metadata": {},
   "outputs": [
    {
     "name": "stdout",
     "output_type": "stream",
     "text": [
      "Median:  28\n"
     ]
    }
   ],
   "source": [
    "def median(*args):\n",
    "    args = sorted(args)\n",
    "    if len(args) % 2 == 0:\n",
    "        left_center = int(len(args) / 2) - 1\n",
    "        right_center = left_center + 1\n",
    "        return mean(args[left_center], args[right_center])\n",
    "    else:\n",
    "        center = int(len(args) / 2)\n",
    "        return args[center]\n",
    "\n",
    "print('Median: ', median(28, 20, 24, 10, 28, 32, 40))"
   ]
  },
  {
   "cell_type": "markdown",
   "metadata": {},
   "source": [
    "#### Mode: Number that occurs the Most\n"
   ]
  },
  {
   "cell_type": "code",
   "execution_count": 6,
   "metadata": {},
   "outputs": [
    {
     "name": "stdout",
     "output_type": "stream",
     "text": [
      "Mode:  [1, 2]\n"
     ]
    }
   ],
   "source": [
    "def mode(*args):\n",
    "    frequencies = {arg : args.count(arg) for arg in args}\n",
    "    mode = [key for key, val in frequencies.items() if val == max(frequencies.values())]\n",
    "    return mode\n",
    "\n",
    "print('Mode: ', mode(1,1,2,2,3))"
   ]
  },
  {
   "cell_type": "markdown",
   "metadata": {},
   "source": [
    "#### Variance: How Data is Spread around the Mean\n",
    "\n",
    "Variance Population: $\\sigma^2$ \\\n",
    "Variance Sample: $S^2$\n",
    "\n",
    "$$\n",
    "\\sigma^2 = \\frac{1}{N} \\sum_{i = 1}^{N} (x_i - \\mu)^2\n",
    "\\qquad \\qquad\n",
    "S^2 = \\frac{1}{n - 1} \\sum_{i = 1}^{n} (x_i - \\bar{x})^2\n",
    "$$\n"
   ]
  },
  {
   "cell_type": "code",
   "execution_count": 7,
   "metadata": {},
   "outputs": [
    {
     "name": "stdout",
     "output_type": "stream",
     "text": [
      "Variance:  2.5\n"
     ]
    }
   ],
   "source": [
    "def variance(*args):\n",
    "    if len(args) <= 1:\n",
    "        return None\n",
    "\n",
    "    mean_val = mean(*args)\n",
    "    numerator = sum([(arg - mean_val) ** 2 for arg in args])\n",
    "    return numerator / (len(args) - 1)\n",
    "\n",
    "\n",
    "print('Variance: ', variance(4,3,6,5,2))"
   ]
  },
  {
   "cell_type": "markdown",
   "metadata": {},
   "source": [
    "#### Standard Deviation\n",
    "\n",
    "Standard Deviation Population: $\\mu$ \\\n",
    "Standard Deviation Sample: $S$\n",
    "\n",
    "$$\n",
    "\\sigma = \\sqrt{\\frac{1}{N} \\sum_{i = 1}^{N} (x_i - \\mu)^2}\n",
    "\\qquad \\qquad\n",
    "S = \\sqrt{\\frac{1}{n - 1} \\sum_{i = 1}^{n} (x_i - \\bar{x})^2}\n",
    "$$\n"
   ]
  },
  {
   "cell_type": "code",
   "execution_count": 8,
   "metadata": {},
   "outputs": [
    {
     "name": "stdout",
     "output_type": "stream",
     "text": [
      "Standard Deviation:  1.5811388300841898\n"
     ]
    }
   ],
   "source": [
    "def standard_deviation(*args):\n",
    "    variance_val = variance(*args)\n",
    "    if variance_val == None:\n",
    "        return None\n",
    "\n",
    "    return math.sqrt(variance_val)\n",
    "\n",
    "print('Standard Deviation: ', standard_deviation(4,3,6,5,2))"
   ]
  },
  {
   "cell_type": "markdown",
   "metadata": {},
   "source": [
    "#### Coefficient of Variation: How Data is Spread in relation to the Mean\n",
    "\n",
    "$$\n",
    "\\text{Coefficient of Variation} = \\frac{S}{\\bar{x}}\n",
    "$$\n"
   ]
  },
  {
   "cell_type": "code",
   "execution_count": 9,
   "metadata": {},
   "outputs": [
    {
     "name": "stdout",
     "output_type": "stream",
     "text": [
      "Coefficient Variance (m):  0.17213259316477408\n",
      "Coefficient Variance (km):  0.1721468629234405\n"
     ]
    }
   ],
   "source": [
    "def coefficient_variation(*args):\n",
    "    sd = standard_deviation(*args)\n",
    "    mean_val = mean(*args)\n",
    "    if sd == None or mean_val == None:\n",
    "        return None\n",
    "\n",
    "    return sd / mean_val\n",
    "\n",
    "\n",
    "miles = [3, 4, 4.5, 3.5]\n",
    "kms = [4.828, 6.437, 7.242, 5.632]\n",
    "print('Coefficient Variance (m): ',  coefficient_variation(*miles))\n",
    "print('Coefficient Variance (km): ', coefficient_variation(*kms))\n"
   ]
  },
  {
   "cell_type": "markdown",
   "metadata": {},
   "source": [
    "#### Covariance: Which Direction 2 Datasets are Moving\n",
    "\n",
    "$$\n",
    "\\text{COV} =  \\frac{1}{n - 1} \\sum_{i = 1}^{n} (x_i - \\bar{x})^2 (y_i - \\bar{y})^2\n",
    "$$\n",
    "\n",
    "-   COV > 0: The datasets are moving Together \\\n",
    "-   COV < 0: The datasets are moving Opposite \\\n",
    "-   COV = 0: The datasets are moving Independently of each other\n"
   ]
  },
  {
   "cell_type": "code",
   "execution_count": 10,
   "metadata": {},
   "outputs": [
    {
     "name": "stdout",
     "output_type": "stream",
     "text": [
      "Covariance:  5803.200000000001\n"
     ]
    }
   ],
   "source": [
    "def covariance(x, y):\n",
    "    if (len(x) != len(y)):\n",
    "        return None\n",
    "\n",
    "    mean_x = mean(*x)\n",
    "    mean_y = mean(*y)\n",
    "    numerator = 0\n",
    "    for i in range(0, len(x)):\n",
    "        numerator += (x[i] - mean_x) * (y[i] - mean_y)\n",
    "    return numerator / (len(x) - 1)\n",
    "\n",
    "\n",
    "market_cap = [1532, 1488, 1343, 928, 615]\n",
    "earnings = [58, 35, 75, 41, 17]\n",
    "print('Covariance: ', covariance(market_cap, earnings))\n"
   ]
  },
  {
   "cell_type": "markdown",
   "metadata": {},
   "source": [
    "#### Correlation Coefficient: How Dependent Datasets are to Each Other\n",
    "\n",
    "$$\n",
    "r = \\frac{COV(X,Y)}{S(X) * S(Y)}, \\qquad -1 < r < 1\n",
    "$$\n",
    "\n",
    "-   r = 1: Perfect Correlation \\\n",
    "-   As r approaches 1, the closer the relation between the two datasets \\\n",
    "-   As r approaches -1, the closer the inverse relation between the two datasets \\\n",
    "-   r = 0: Independence\n"
   ]
  },
  {
   "cell_type": "code",
   "execution_count": 11,
   "metadata": {},
   "outputs": [
    {
     "name": "stdout",
     "output_type": "stream",
     "text": [
      "Correlation Coefficient:  0.660125602195931\n"
     ]
    }
   ],
   "source": [
    "def correlation_coefficient(x, y):\n",
    "    if (len(x) != len(y)):\n",
    "        return None\n",
    "\n",
    "    return covariance(x, y) / (standard_deviation(*x) * standard_deviation(*y))\n",
    "\n",
    "print('Correlation Coefficient: ', correlation_coefficient(market_cap, earnings))"
   ]
  },
  {
   "cell_type": "markdown",
   "metadata": {},
   "source": [
    "## Part 2\n",
    "\n",
    "https://www.youtube.com/watch?v=ger_Won5sRQ&list=PLGLfVvz_LVvQjNJr85J4U_lxDg8vgqvcO&index=2&ab_channel=DerekBanas\n"
   ]
  },
  {
   "cell_type": "code",
   "execution_count": 12,
   "metadata": {},
   "outputs": [],
   "source": [
    "sales_data = convert_csv_list('computersales.csv')\n",
    "\n",
    "def get_index_header(heading):\n",
    "    for i in range(0, len(sales_data[0])):\n",
    "        if heading.lower() == sales_data[0][i].lower():\n",
    "            return i\n",
    "    return -1"
   ]
  },
  {
   "cell_type": "code",
   "execution_count": 13,
   "metadata": {},
   "outputs": [
    {
     "name": "stdout",
     "output_type": "stream",
     "text": [
      "Sex:  {'F': 17, 'M': 22}\n"
     ]
    }
   ],
   "source": [
    "def get_count_category(index):\n",
    "    data_list = [0] * 40\n",
    "    data_dict = {}\n",
    "    for i in range(1, len(sales_data)):\n",
    "        data_list[i] = sales_data[i][index]\n",
    "\n",
    "    del data_list[0]\n",
    "    data_set = set(data_list)\n",
    "    unique_list = list(data_set)\n",
    "\n",
    "    for i in range(0, len(unique_list)):\n",
    "        unique_item = unique_list[i]\n",
    "        data_dict[unique_item] = data_list.count(unique_item)\n",
    "\n",
    "    return data_dict\n",
    "\n",
    "index_sex = get_index_header('Contact Sex')\n",
    "count_sex = get_count_category(index_sex)\n",
    "print('Sex: ', count_sex)"
   ]
  },
  {
   "cell_type": "code",
   "execution_count": 14,
   "metadata": {},
   "outputs": [
    {
     "name": "stdout",
     "output_type": "stream",
     "text": [
      "Sex Profit:  {'F': [230.89, 98.09, 230.89, 180.34, 230.89, 72.09, 98.09, 146.69, 122.34, 143.09, 118.64, 180.34, 230.89, 72.09, 98.09, 146.69, 122.34], 'M': [143.39, 118.64, 72.09, 146.69, 122.34, 143.39, 180.34, 122.34, 118.64, 146.69, 72.09, 143.39, 180.34, 122.34, 143.09, 143.09, 98.09, 143.39, 180.34, 143.39, 180.34, 72.09]}\n"
     ]
    }
   ],
   "source": [
    "def get_key_profit_list(index, data_dict):\n",
    "    index_profit = get_index_header('Profit')\n",
    "    profit_dict = {}\n",
    "    for key in data_dict.keys():\n",
    "        profit_dict[key] = []\n",
    "        for i in range(1, len(sales_data)):\n",
    "            if key == sales_data[i][index]:\n",
    "                profit = float(sales_data[i][index_profit])\n",
    "                profit_dict[key].append(profit)\n",
    "\n",
    "    return profit_dict\n",
    "\n",
    "profit_sex = get_key_profit_list(index_sex, count_sex)\n",
    "profit_female = profit_sex['F']\n",
    "profit_male = profit_sex['M']\n",
    "print('Sex Profit: ', profit_sex)"
   ]
  },
  {
   "cell_type": "code",
   "execution_count": 15,
   "metadata": {},
   "outputs": [
    {
     "name": "stdout",
     "output_type": "stream",
     "text": [
      "Sex Profit Mean:  {'F': 148.38117647058823, 'M': 133.47863636363635}\n"
     ]
    }
   ],
   "source": [
    "def get_profit_mean_category_dict(data_dict):\n",
    "    profit_mean_dict = {}\n",
    "    for key in data_dict.keys():\n",
    "        profit_mean_dict[key] = mean(*data_dict[key])\n",
    "    return profit_mean_dict\n",
    "\n",
    "print('Sex Profit Mean: ', get_profit_mean_category_dict(profit_sex))"
   ]
  },
  {
   "cell_type": "code",
   "execution_count": 16,
   "metadata": {},
   "outputs": [
    {
     "name": "stdout",
     "output_type": "stream",
     "text": [
      "Contact Sex Data\n",
      "Category Count:  {'F': 17, 'M': 22}\n",
      "Profit:  {'F': [230.89, 98.09, 230.89, 180.34, 230.89, 72.09, 98.09, 146.69, 122.34, 143.09, 118.64, 180.34, 230.89, 72.09, 98.09, 146.69, 122.34], 'M': [143.39, 118.64, 72.09, 146.69, 122.34, 143.39, 180.34, 122.34, 118.64, 146.69, 72.09, 143.39, 180.34, 122.34, 143.09, 143.09, 98.09, 143.39, 180.34, 143.39, 180.34, 72.09]}\n",
      "Profit Means:  {'F': 148.38117647058823, 'M': 133.47863636363635} \n",
      "\n",
      "Contact Age Data\n",
      "Category Count:  {35.0: 3, 37.0: 2, 43.0: 2, 45.0: 3, 46.0: 6, 49.0: 4, 51.0: 3, 23.0: 3, 52.0: 2, 54.0: 2, 55.0: 2, 56.0: 3, 57.0: 3, 26.0: 1}\n",
      "Profit:  {35.0: [72.09, 98.09, 72.09], 37.0: [230.89, 143.09], 43.0: [143.39, 122.34], 45.0: [230.89, 122.34, 122.34], 46.0: [180.34, 98.09, 146.69, 118.64, 98.09, 146.69], 49.0: [180.34, 72.09, 180.34, 72.09], 51.0: [118.64, 180.34, 180.34], 23.0: [146.69, 72.09, 143.09], 52.0: [122.34, 143.09], 54.0: [230.89, 230.89], 55.0: [98.09, 180.34], 56.0: [143.39, 146.69, 143.39], 57.0: [122.34, 143.39, 143.39], 26.0: [118.64]}\n",
      "Profit Means:  {35.0: 80.75666666666667, 37.0: 186.99, 43.0: 132.865, 45.0: 158.52333333333334, 46.0: 131.42333333333332, 49.0: 126.215, 51.0: 159.77333333333334, 23.0: 120.62333333333333, 52.0: 132.715, 54.0: 230.89, 55.0: 139.215, 56.0: 144.48999999999998, 57.0: 136.37333333333333, 26.0: 118.64} \n",
      "\n",
      "Contact City Data\n",
      "Category Count:  {'Banksville': 7, 'St. Clair': 4, 'Lawrenceville': 4, 'Larimer': 4, 'Carnegie': 5, 'Pittsburgh': 15}\n",
      "Profit:  {'Banksville': [230.89, 146.69, 122.34, 118.64, 230.89, 146.69, 122.34], 'St. Clair': [72.09, 230.89, 98.09, 72.09], 'Lawrenceville': [146.69, 146.69, 98.09, 98.09], 'Larimer': [230.89, 143.39, 143.09, 143.39], 'Carnegie': [143.39, 180.34, 122.34, 122.34, 143.09], 'Pittsburgh': [118.64, 98.09, 180.34, 122.34, 118.64, 72.09, 72.09, 143.39, 180.34, 143.09, 180.34, 180.34, 72.09, 143.39, 180.34]}\n",
      "Profit Means:  {'Banksville': 159.78285714285715, 'St. Clair': 118.28999999999999, 'Lawrenceville': 122.39, 'Larimer': 165.19, 'Carnegie': 142.3, 'Pittsburgh': 133.70333333333332} \n",
      "\n",
      "Contact State Data\n",
      "Category Count:  {'WV': 4, 'OH': 11, 'NY': 5, 'PA': 19}\n",
      "Profit:  {'WV': [230.89, 143.39, 143.09, 143.39], 'OH': [143.39, 180.34, 146.69, 122.34, 230.89, 146.69, 98.09, 122.34, 143.09, 230.89, 98.09], 'NY': [146.69, 122.34, 118.64, 146.69, 122.34], 'PA': [118.64, 72.09, 98.09, 230.89, 180.34, 122.34, 118.64, 72.09, 72.09, 143.39, 180.34, 143.09, 98.09, 180.34, 180.34, 72.09, 143.39, 180.34, 72.09]}\n",
      "Profit Means:  {'WV': 165.19, 'OH': 151.16727272727272, 'NY': 131.34, 'PA': 130.4584210526316} \n",
      "\n",
      "Product Company Data\n",
      "Category Count:  {'ASUS': 9, 'Dell': 8, 'Apple': 4, 'HP': 13, 'Lenovo': 5}\n",
      "Profit:  {'ASUS': [180.34, 180.34, 180.34, 143.09, 143.09, 143.09, 180.34, 180.34, 180.34], 'Dell': [118.64, 72.09, 118.64, 72.09, 72.09, 118.64, 72.09, 72.09], 'Apple': [146.69, 146.69, 146.69, 146.69], 'HP': [143.39, 230.89, 98.09, 230.89, 143.39, 230.89, 98.09, 143.39, 98.09, 143.39, 230.89, 98.09, 143.39], 'Lenovo': [122.34, 122.34, 122.34, 122.34, 122.34]}\n",
      "Profit Means:  {'ASUS': 167.92333333333332, 'Dell': 89.54625, 'Apple': 146.69, 'HP': 156.37461538461537, 'Lenovo': 122.34} \n",
      "\n",
      "Product ID Data\n",
      "Category Count:  {'81TC00': 5, 'MY2J2LL': 4, 'I3593': 5, 'Q526FA': 3, 'I3670': 3, '15M-ED': 4, 'GT13-0024': 4, 'M01-F0024': 5, 'GA401IV': 6}\n",
      "Profit:  {'81TC00': [122.34, 122.34, 122.34, 122.34, 122.34], 'MY2J2LL': [146.69, 146.69, 146.69, 146.69], 'I3593': [72.09, 72.09, 72.09, 72.09, 72.09], 'Q526FA': [143.09, 143.09, 143.09], 'I3670': [118.64, 118.64, 118.64], '15M-ED': [98.09, 98.09, 98.09, 98.09], 'GT13-0024': [230.89, 230.89, 230.89, 230.89], 'M01-F0024': [143.39, 143.39, 143.39, 143.39, 143.39], 'GA401IV': [180.34, 180.34, 180.34, 180.34, 180.34, 180.34]}\n",
      "Profit Means:  {'81TC00': 122.34, 'MY2J2LL': 146.69, 'I3593': 72.09, 'Q526FA': 143.09, 'I3670': 118.64, '15M-ED': 98.09, 'GT13-0024': 230.89, 'M01-F0024': 143.39, 'GA401IV': 180.34} \n",
      "\n",
      "Product Type Data\n",
      "Category Count:  {'Desktop': 12, 'Tablet': 4, 'Laptop': 23}\n",
      "Profit:  {'Desktop': [143.39, 230.89, 118.64, 230.89, 143.39, 230.89, 118.64, 143.39, 118.64, 143.39, 230.89, 143.39], 'Tablet': [146.69, 146.69, 146.69, 146.69], 'Laptop': [72.09, 98.09, 180.34, 122.34, 180.34, 122.34, 72.09, 98.09, 72.09, 122.34, 180.34, 122.34, 143.09, 143.09, 143.09, 98.09, 180.34, 180.34, 72.09, 98.09, 122.34, 180.34, 72.09]}\n",
      "Profit Means:  {'Desktop': 166.36916666666664, 'Tablet': 146.69, 'Laptop': 125.03565217391305} \n",
      "\n",
      "Sale Price Data\n",
      "Category Count:  {1249.99: 4, 1349.99: 6, 999.99: 4, 649.99: 8, 399.99: 5, 1049.99: 3, 699.99: 4, 479.99: 5}\n",
      "Profit:  {1249.99: [230.89, 230.89, 230.89, 230.89], 1349.99: [180.34, 180.34, 180.34, 180.34, 180.34, 180.34], 999.99: [146.69, 146.69, 146.69, 146.69], 649.99: [118.64, 122.34, 122.34, 118.64, 122.34, 122.34, 118.64, 122.34], 399.99: [72.09, 72.09, 72.09, 72.09, 72.09], 1049.99: [143.09, 143.09, 143.09], 699.99: [98.09, 98.09, 98.09, 98.09], 479.99: [143.39, 143.39, 143.39, 143.39, 143.39]}\n",
      "Profit Means:  {1249.99: 230.89, 1349.99: 180.34, 999.99: 146.69, 649.99: 120.9525, 399.99: 72.09, 1049.99: 143.09, 699.99: 98.09, 479.99: 143.39} \n",
      "\n",
      "Our Cost Data\n",
      "Category Count:  {1152.25: 6, 998.0: 4, 584.5: 4, 845.0: 4, 310.5: 5, 889.5: 3, 315.5: 5, 510.25: 8}\n",
      "Profit:  {1152.25: [180.34, 180.34, 180.34, 180.34, 180.34, 180.34], 998.0: [230.89, 230.89, 230.89, 230.89], 584.5: [98.09, 98.09, 98.09, 98.09], 845.0: [146.69, 146.69, 146.69, 146.69], 310.5: [72.09, 72.09, 72.09, 72.09, 72.09], 889.5: [143.09, 143.09, 143.09], 315.5: [143.39, 143.39, 143.39, 143.39, 143.39], 510.25: [118.64, 122.34, 122.34, 118.64, 122.34, 122.34, 118.64, 122.34]}\n",
      "Profit Means:  {1152.25: 180.34, 998.0: 230.89, 584.5: 98.09, 845.0: 146.69, 310.5: 72.09, 889.5: 143.09, 315.5: 143.39, 510.25: 120.9525} \n",
      "\n",
      "Shipping Cost Data\n",
      "Category Count:  {8.3: 4, 17.4: 23, 21.1: 12}\n",
      "Profit:  {8.3: [146.69, 146.69, 146.69, 146.69], 17.4: [72.09, 98.09, 180.34, 122.34, 180.34, 122.34, 72.09, 98.09, 72.09, 122.34, 180.34, 122.34, 143.09, 143.09, 143.09, 98.09, 180.34, 180.34, 72.09, 98.09, 122.34, 180.34, 72.09], 21.1: [143.39, 230.89, 118.64, 230.89, 143.39, 230.89, 118.64, 143.39, 118.64, 143.39, 230.89, 143.39]}\n",
      "Profit Means:  {8.3: 146.69, 17.4: 125.03565217391305, 21.1: 166.36916666666664} \n",
      "\n",
      "Lead Source Data\n",
      "Category Count:  {'Flyer 4': 6, 'Flyer 3': 1, 'Flyer 2': 9, 'Email': 7, 'Website': 14, 'Flyer 1': 2}\n",
      "Profit:  {'Flyer 4': [230.89, 98.09, 72.09, 143.39, 143.09, 143.39], 'Flyer 3': [180.34], 'Flyer 2': [230.89, 143.39, 230.89, 72.09, 118.64, 180.34, 143.39, 230.89, 72.09], 'Email': [180.34, 122.34, 122.34, 98.09, 143.09, 98.09, 98.09], 'Website': [143.39, 118.64, 72.09, 146.69, 118.64, 146.69, 122.34, 180.34, 122.34, 143.09, 146.69, 122.34, 180.34, 72.09], 'Flyer 1': [146.69, 180.34]}\n",
      "Profit Means:  {'Flyer 4': 138.48999999999998, 'Flyer 3': 180.34, 'Flyer 2': 158.06777777777776, 'Email': 123.19714285714285, 'Website': 131.12214285714285, 'Flyer 1': 163.515} \n",
      "\n",
      "Sale Month Data\n",
      "Category Count:  {'August': 3, 'February': 3, 'March': 6, 'December': 5, 'May': 4, 'January': 5, 'November': 6, 'April': 5, 'July': 2}\n",
      "Profit:  {'August': [143.39, 180.34, 122.34], 'February': [118.64, 98.09, 230.89], 'March': [72.09, 98.09, 146.69, 72.09, 72.09, 98.09], 'December': [118.64, 146.69, 143.09, 98.09, 180.34], 'May': [180.34, 143.39, 180.34, 72.09], 'January': [143.39, 230.89, 72.09, 143.39, 180.34], 'November': [180.34, 230.89, 122.34, 143.09, 118.64, 143.09], 'April': [230.89, 122.34, 146.69, 122.34, 143.39], 'July': [146.69, 122.34]}\n",
      "Profit Means:  {'August': 148.69, 'February': 149.20666666666668, 'March': 93.19, 'December': 137.37, 'May': 144.04, 'January': 154.01999999999998, 'November': 156.39833333333334, 'April': 153.13, 'July': 134.515} \n",
      "\n",
      "Sale Year Data\n",
      "Category Count:  {2018.0: 15, 2019.0: 14, 2020.0: 10}\n",
      "Profit:  {2018.0: [143.39, 230.89, 118.64, 72.09, 98.09, 230.89, 180.34, 146.69, 122.34, 143.39, 180.34, 230.89, 122.34, 118.64, 146.69], 2019.0: [72.09, 98.09, 146.69, 72.09, 122.34, 143.39, 180.34, 122.34, 143.09, 118.64, 143.09, 143.09, 98.09, 180.34], 2020.0: [143.39, 180.34, 230.89, 72.09, 98.09, 146.69, 122.34, 143.39, 180.34, 72.09]}\n",
      "Profit Means:  {2018.0: 152.37666666666667, 2019.0: 127.40785714285714, 2020.0: 138.965} \n",
      "\n"
     ]
    }
   ],
   "source": [
    "def get_all_profit_data(index):\n",
    "    title = sales_data[0][index]\n",
    "    category_count_dict = get_count_category(index)\n",
    "    profit = get_key_profit_list(index, category_count_dict)\n",
    "    profit_means = get_profit_mean_category_dict(profit)\n",
    "\n",
    "    print(title, 'Data')\n",
    "    print('Category Count: ', category_count_dict)\n",
    "    print('Profit: ', profit)\n",
    "    print('Profit Means: ', profit_means, '\\n')\n",
    "\n",
    "\n",
    "for i in range(3, 17):\n",
    "    if i == 13:\n",
    "        continue\n",
    "    get_all_profit_data(i)\n"
   ]
  },
  {
   "cell_type": "markdown",
   "metadata": {},
   "source": [
    "## Part 3\n",
    "\n",
    "https://www.youtube.com/watch?v=r_SyYZ_nZNI&list=PLGLfVvz_LVvQjNJr85J4U_lxDg8vgqvcO&index=3&ab_channel=DerekBanas\n"
   ]
  },
  {
   "cell_type": "code",
   "execution_count": 17,
   "metadata": {},
   "outputs": [
    {
     "name": "stdout",
     "output_type": "stream",
     "text": [
      "Standard Deviation:  {'F': 56.33404342428663, 'M': 33.22333492842393}\n"
     ]
    }
   ],
   "source": [
    "def get_standard_deviation_category(data_dict):\n",
    "    sd_dict = {}\n",
    "    for key in data_dict.keys():\n",
    "        sd_dict[key] = standard_deviation(*data_dict[key])\n",
    "    return sd_dict\n",
    "\n",
    "print('Standard Deviation: ', get_standard_deviation_category(profit_sex))"
   ]
  },
  {
   "cell_type": "code",
   "execution_count": 18,
   "metadata": {},
   "outputs": [],
   "source": [
    "def get_coefficient_variation(data_dict):\n",
    "    cv_dict = {}\n",
    "    for key in data_dict.keys():\n",
    "        cv_dict[key] = coefficient_variation(*data_dict[key])\n",
    "    return cv_dict"
   ]
  },
  {
   "cell_type": "code",
   "execution_count": 19,
   "metadata": {},
   "outputs": [
    {
     "name": "stdout",
     "output_type": "stream",
     "text": [
      "Contact Sex Data\n",
      "Category Count:  {'F': 17, 'M': 22}\n",
      "Profit:  {'F': [230.89, 98.09, 230.89, 180.34, 230.89, 72.09, 98.09, 146.69, 122.34, 143.09, 118.64, 180.34, 230.89, 72.09, 98.09, 146.69, 122.34], 'M': [143.39, 118.64, 72.09, 146.69, 122.34, 143.39, 180.34, 122.34, 118.64, 146.69, 72.09, 143.39, 180.34, 122.34, 143.09, 143.09, 98.09, 143.39, 180.34, 143.39, 180.34, 72.09]}\n",
      "Profit Means:  {'F': 148.38117647058823, 'M': 133.47863636363635}\n",
      "Profit Standard Deviation:  {'F': 56.33404342428663, 'M': 33.22333492842393}\n",
      "Profit Coefficient Variation:  {'F': 0.3796576140198823, 'M': 0.24890376343007786}\n",
      "\n",
      "Contact Age Data\n",
      "Category Count:  {35.0: 3, 37.0: 2, 43.0: 2, 45.0: 3, 46.0: 6, 49.0: 4, 51.0: 3, 23.0: 3, 52.0: 2, 54.0: 2, 55.0: 2, 56.0: 3, 57.0: 3, 26.0: 1}\n",
      "Profit:  {35.0: [72.09, 98.09, 72.09], 37.0: [230.89, 143.09], 43.0: [143.39, 122.34], 45.0: [230.89, 122.34, 122.34], 46.0: [180.34, 98.09, 146.69, 118.64, 98.09, 146.69], 49.0: [180.34, 72.09, 180.34, 72.09], 51.0: [118.64, 180.34, 180.34], 23.0: [146.69, 72.09, 143.09], 52.0: [122.34, 143.09], 54.0: [230.89, 230.89], 55.0: [98.09, 180.34], 56.0: [143.39, 146.69, 143.39], 57.0: [122.34, 143.39, 143.39], 26.0: [118.64]}\n",
      "Profit Means:  {35.0: 80.75666666666667, 37.0: 186.99, 43.0: 132.865, 45.0: 158.52333333333334, 46.0: 131.42333333333332, 49.0: 126.215, 51.0: 159.77333333333334, 23.0: 120.62333333333333, 52.0: 132.715, 54.0: 230.89, 55.0: 139.215, 56.0: 144.48999999999998, 57.0: 136.37333333333333, 26.0: 118.64}\n",
      "Profit Standard Deviation:  {35.0: 15.01110699893027, 37.0: 62.08397538817886, 43.0: 14.884597743976814, 45.0: 62.67137172053387, 46.0: 32.38709104977887, 49.0: 62.49816663977699, 51.0: 35.622511608999915, 23.0: 42.069624829956986, 52.0: 14.67246570962086, 54.0: 0.0, 55.0: 58.159532752593535, 56.0: 1.9052558883257715, 57.0: 12.153223166441613, 26.0: None}\n",
      "Profit Coefficient Variation:  {35.0: 0.1858807157171371, 37.0: 0.3320176233391029, 43.0: 0.11202798136436844, 45.0: 0.395344776082599, 46.0: 0.2464333404756553, 49.0: 0.49517225876303916, 51.0: 0.22295655267253556, 23.0: 0.3487685480693922, 52.0: 0.11055619718660935, 54.0: 0.0, 55.0: 0.4177677172186441, 56.0: 0.013186074388025274, 57.0: 0.08911729932373103, 26.0: None}\n",
      "\n",
      "Contact City Data\n",
      "Category Count:  {'Banksville': 7, 'St. Clair': 4, 'Lawrenceville': 4, 'Larimer': 4, 'Carnegie': 5, 'Pittsburgh': 15}\n",
      "Profit:  {'Banksville': [230.89, 146.69, 122.34, 118.64, 230.89, 146.69, 122.34], 'St. Clair': [72.09, 230.89, 98.09, 72.09], 'Lawrenceville': [146.69, 146.69, 98.09, 98.09], 'Larimer': [230.89, 143.39, 143.09, 143.39], 'Carnegie': [143.39, 180.34, 122.34, 122.34, 143.09], 'Pittsburgh': [118.64, 98.09, 180.34, 122.34, 118.64, 72.09, 72.09, 143.39, 180.34, 143.09, 180.34, 180.34, 72.09, 143.39, 180.34]}\n",
      "Profit Means:  {'Banksville': 159.78285714285715, 'St. Clair': 118.28999999999999, 'Lawrenceville': 122.39, 'Larimer': 165.19, 'Carnegie': 142.3, 'Pittsburgh': 133.70333333333332}\n",
      "Profit Standard Deviation:  {'Banksville': 49.91988104762994, 'St. Clair': 76.06067753226148, 'Lawrenceville': 28.05922308261581, 'Larimer': 43.80022830990724, 'Carnegie': 23.69418177527977, 'Pittsburgh': 41.73942751792134}\n",
      "Profit Coefficient Variation:  {'Banksville': 0.3124232595427809, 'St. Clair': 0.6430017544362286, 'Lawrenceville': 0.22926074910217997, 'Larimer': 0.2651506042127686, 'Carnegie': 0.1665086561860841, 'Pittsburgh': 0.31217940852575116}\n",
      "\n",
      "Contact State Data\n",
      "Category Count:  {'WV': 4, 'OH': 11, 'NY': 5, 'PA': 19}\n",
      "Profit:  {'WV': [230.89, 143.39, 143.09, 143.39], 'OH': [143.39, 180.34, 146.69, 122.34, 230.89, 146.69, 98.09, 122.34, 143.09, 230.89, 98.09], 'NY': [146.69, 122.34, 118.64, 146.69, 122.34], 'PA': [118.64, 72.09, 98.09, 230.89, 180.34, 122.34, 118.64, 72.09, 72.09, 143.39, 180.34, 143.09, 98.09, 180.34, 180.34, 72.09, 143.39, 180.34, 72.09]}\n",
      "Profit Means:  {'WV': 165.19, 'OH': 151.16727272727272, 'NY': 131.34, 'PA': 130.4584210526316}\n",
      "Profit Standard Deviation:  {'WV': 43.80022830990724, 'OH': 45.852711826217885, 'NY': 14.093748614190616, 'PA': 48.58921979926981}\n",
      "Profit Coefficient Variation:  {'WV': 0.2651506042127686, 'OH': 0.30332433071636283, 'NY': 0.1073073596329421, 'PA': 0.3724498534262283}\n",
      "\n",
      "Product Company Data\n",
      "Category Count:  {'ASUS': 9, 'Dell': 8, 'Apple': 4, 'HP': 13, 'Lenovo': 5}\n",
      "Profit:  {'ASUS': [180.34, 180.34, 180.34, 143.09, 143.09, 143.09, 180.34, 180.34, 180.34], 'Dell': [118.64, 72.09, 118.64, 72.09, 72.09, 118.64, 72.09, 72.09], 'Apple': [146.69, 146.69, 146.69, 146.69], 'HP': [143.39, 230.89, 98.09, 230.89, 143.39, 230.89, 98.09, 143.39, 98.09, 143.39, 230.89, 98.09, 143.39], 'Lenovo': [122.34, 122.34, 122.34, 122.34, 122.34]}\n",
      "Profit Means:  {'ASUS': 167.92333333333332, 'Dell': 89.54625, 'Apple': 146.69, 'HP': 156.37461538461537, 'Lenovo': 122.34}\n",
      "Profit Standard Deviation:  {'ASUS': 18.625, 'Dell': 24.091913840539938, 'Apple': 0.0, 'HP': 55.258149416380896, 'Lenovo': 0.0}\n",
      "Profit Coefficient Variation:  {'ASUS': 0.1109137106219108, 'Dell': 0.2690443635611758, 'Apple': 0.0, 'HP': 0.35337032983562733, 'Lenovo': 0.0}\n",
      "\n",
      "Product ID Data\n",
      "Category Count:  {'81TC00': 5, 'MY2J2LL': 4, 'I3593': 5, 'Q526FA': 3, 'I3670': 3, '15M-ED': 4, 'GT13-0024': 4, 'M01-F0024': 5, 'GA401IV': 6}\n",
      "Profit:  {'81TC00': [122.34, 122.34, 122.34, 122.34, 122.34], 'MY2J2LL': [146.69, 146.69, 146.69, 146.69], 'I3593': [72.09, 72.09, 72.09, 72.09, 72.09], 'Q526FA': [143.09, 143.09, 143.09], 'I3670': [118.64, 118.64, 118.64], '15M-ED': [98.09, 98.09, 98.09, 98.09], 'GT13-0024': [230.89, 230.89, 230.89, 230.89], 'M01-F0024': [143.39, 143.39, 143.39, 143.39, 143.39], 'GA401IV': [180.34, 180.34, 180.34, 180.34, 180.34, 180.34]}\n",
      "Profit Means:  {'81TC00': 122.34, 'MY2J2LL': 146.69, 'I3593': 72.09, 'Q526FA': 143.09, 'I3670': 118.64, '15M-ED': 98.09, 'GT13-0024': 230.89, 'M01-F0024': 143.39, 'GA401IV': 180.34}\n",
      "Profit Standard Deviation:  {'81TC00': 0.0, 'MY2J2LL': 0.0, 'I3593': 0.0, 'Q526FA': 0.0, 'I3670': 0.0, '15M-ED': 0.0, 'GT13-0024': 0.0, 'M01-F0024': 0.0, 'GA401IV': 0.0}\n",
      "Profit Coefficient Variation:  {'81TC00': 0.0, 'MY2J2LL': 0.0, 'I3593': 0.0, 'Q526FA': 0.0, 'I3670': 0.0, '15M-ED': 0.0, 'GT13-0024': 0.0, 'M01-F0024': 0.0, 'GA401IV': 0.0}\n",
      "\n",
      "Product Type Data\n",
      "Category Count:  {'Desktop': 12, 'Tablet': 4, 'Laptop': 23}\n",
      "Profit:  {'Desktop': [143.39, 230.89, 118.64, 230.89, 143.39, 230.89, 118.64, 143.39, 118.64, 143.39, 230.89, 143.39], 'Tablet': [146.69, 146.69, 146.69, 146.69], 'Laptop': [72.09, 98.09, 180.34, 122.34, 180.34, 122.34, 72.09, 98.09, 72.09, 122.34, 180.34, 122.34, 143.09, 143.09, 143.09, 98.09, 180.34, 180.34, 72.09, 98.09, 122.34, 180.34, 72.09]}\n",
      "Profit Means:  {'Desktop': 166.36916666666664, 'Tablet': 146.69, 'Laptop': 125.03565217391305}\n",
      "Profit Standard Deviation:  {'Desktop': 48.73507444398342, 'Tablet': 0.0, 'Laptop': 40.61242508329495}\n",
      "Profit Coefficient Variation:  {'Desktop': 0.2929333326627035, 'Tablet': 0.0, 'Laptop': 0.32480676012955745}\n",
      "\n",
      "Sale Price Data\n",
      "Category Count:  {1249.99: 4, 1349.99: 6, 999.99: 4, 649.99: 8, 399.99: 5, 1049.99: 3, 699.99: 4, 479.99: 5}\n",
      "Profit:  {1249.99: [230.89, 230.89, 230.89, 230.89], 1349.99: [180.34, 180.34, 180.34, 180.34, 180.34, 180.34], 999.99: [146.69, 146.69, 146.69, 146.69], 649.99: [118.64, 122.34, 122.34, 118.64, 122.34, 122.34, 118.64, 122.34], 399.99: [72.09, 72.09, 72.09, 72.09, 72.09], 1049.99: [143.09, 143.09, 143.09], 699.99: [98.09, 98.09, 98.09, 98.09], 479.99: [143.39, 143.39, 143.39, 143.39, 143.39]}\n",
      "Profit Means:  {1249.99: 230.89, 1349.99: 180.34, 999.99: 146.69, 649.99: 120.9525, 399.99: 72.09, 1049.99: 143.09, 699.99: 98.09, 479.99: 143.39}\n",
      "Profit Standard Deviation:  {1249.99: 0.0, 1349.99: 0.0, 999.99: 0.0, 649.99: 1.9149319271750342, 399.99: 0.0, 1049.99: 0.0, 699.99: 0.0, 479.99: 0.0}\n",
      "Profit Coefficient Variation:  {1249.99: 0.0, 1349.99: 0.0, 999.99: 0.0, 649.99: 0.015832098775759362, 399.99: 0.0, 1049.99: 0.0, 699.99: 0.0, 479.99: 0.0}\n",
      "\n",
      "Our Cost Data\n",
      "Category Count:  {1152.25: 6, 998.0: 4, 584.5: 4, 845.0: 4, 310.5: 5, 889.5: 3, 315.5: 5, 510.25: 8}\n",
      "Profit:  {1152.25: [180.34, 180.34, 180.34, 180.34, 180.34, 180.34], 998.0: [230.89, 230.89, 230.89, 230.89], 584.5: [98.09, 98.09, 98.09, 98.09], 845.0: [146.69, 146.69, 146.69, 146.69], 310.5: [72.09, 72.09, 72.09, 72.09, 72.09], 889.5: [143.09, 143.09, 143.09], 315.5: [143.39, 143.39, 143.39, 143.39, 143.39], 510.25: [118.64, 122.34, 122.34, 118.64, 122.34, 122.34, 118.64, 122.34]}\n",
      "Profit Means:  {1152.25: 180.34, 998.0: 230.89, 584.5: 98.09, 845.0: 146.69, 310.5: 72.09, 889.5: 143.09, 315.5: 143.39, 510.25: 120.9525}\n",
      "Profit Standard Deviation:  {1152.25: 0.0, 998.0: 0.0, 584.5: 0.0, 845.0: 0.0, 310.5: 0.0, 889.5: 0.0, 315.5: 0.0, 510.25: 1.9149319271750342}\n",
      "Profit Coefficient Variation:  {1152.25: 0.0, 998.0: 0.0, 584.5: 0.0, 845.0: 0.0, 310.5: 0.0, 889.5: 0.0, 315.5: 0.0, 510.25: 0.015832098775759362}\n",
      "\n",
      "Shipping Cost Data\n",
      "Category Count:  {8.3: 4, 17.4: 23, 21.1: 12}\n",
      "Profit:  {8.3: [146.69, 146.69, 146.69, 146.69], 17.4: [72.09, 98.09, 180.34, 122.34, 180.34, 122.34, 72.09, 98.09, 72.09, 122.34, 180.34, 122.34, 143.09, 143.09, 143.09, 98.09, 180.34, 180.34, 72.09, 98.09, 122.34, 180.34, 72.09], 21.1: [143.39, 230.89, 118.64, 230.89, 143.39, 230.89, 118.64, 143.39, 118.64, 143.39, 230.89, 143.39]}\n",
      "Profit Means:  {8.3: 146.69, 17.4: 125.03565217391305, 21.1: 166.36916666666664}\n",
      "Profit Standard Deviation:  {8.3: 0.0, 17.4: 40.61242508329495, 21.1: 48.73507444398342}\n",
      "Profit Coefficient Variation:  {8.3: 0.0, 17.4: 0.32480676012955745, 21.1: 0.2929333326627035}\n",
      "\n",
      "Lead Source Data\n",
      "Category Count:  {'Flyer 4': 6, 'Flyer 3': 1, 'Flyer 2': 9, 'Email': 7, 'Website': 14, 'Flyer 1': 2}\n",
      "Profit:  {'Flyer 4': [230.89, 98.09, 72.09, 143.39, 143.09, 143.39], 'Flyer 3': [180.34], 'Flyer 2': [230.89, 143.39, 230.89, 72.09, 118.64, 180.34, 143.39, 230.89, 72.09], 'Email': [180.34, 122.34, 122.34, 98.09, 143.09, 98.09, 98.09], 'Website': [143.39, 118.64, 72.09, 146.69, 118.64, 146.69, 122.34, 180.34, 122.34, 143.09, 146.69, 122.34, 180.34, 72.09], 'Flyer 1': [146.69, 180.34]}\n",
      "Profit Means:  {'Flyer 4': 138.48999999999998, 'Flyer 3': 180.34, 'Flyer 2': 158.06777777777776, 'Email': 123.19714285714285, 'Website': 131.12214285714285, 'Flyer 1': 163.515}\n",
      "Profit Standard Deviation:  {'Flyer 4': 54.1258902929088, 'Flyer 3': None, 'Flyer 2': 64.39629313434465, 'Email': 30.42369455664763, 'Website': 32.07943630297271, 'Flyer 1': 23.794143186927325}\n",
      "Profit Coefficient Variation:  {'Flyer 4': 0.3908288706253795, 'Flyer 3': None, 'Flyer 2': 0.40739671323068294, 'Email': 0.24695129977102137, 'Website': 0.24465308150068255, 'Flyer 1': 0.14551657760405667}\n",
      "\n",
      "Sale Month Data\n",
      "Category Count:  {'August': 3, 'February': 3, 'March': 6, 'December': 5, 'May': 4, 'January': 5, 'November': 6, 'April': 5, 'July': 2}\n",
      "Profit:  {'August': [143.39, 180.34, 122.34], 'February': [118.64, 98.09, 230.89], 'March': [72.09, 98.09, 146.69, 72.09, 72.09, 98.09], 'December': [118.64, 146.69, 143.09, 98.09, 180.34], 'May': [180.34, 143.39, 180.34, 72.09], 'January': [143.39, 230.89, 72.09, 143.39, 180.34], 'November': [180.34, 230.89, 122.34, 143.09, 118.64, 143.09], 'April': [230.89, 122.34, 146.69, 122.34, 143.39], 'July': [146.69, 122.34]}\n",
      "Profit Means:  {'August': 148.69, 'February': 149.20666666666668, 'March': 93.19, 'December': 137.37, 'May': 144.04, 'January': 154.01999999999998, 'November': 156.39833333333334, 'April': 153.13, 'July': 134.515}\n",
      "Profit Standard Deviation:  {'August': 29.360986018865237, 'February': 71.4821714368928, 'March': 29.14069319697114, 'December': 31.06337473617443, 'May': 51.03137923539463, 'January': 58.18130713553967, 'November': 42.57251950104276, 'April': 44.941648278629025, 'July': 17.21805012189243}\n",
      "Profit Coefficient Variation:  {'August': 0.19746442947652995, 'February': 0.4790816190310495, 'March': 0.31270193365136967, 'December': 0.2261292475516811, 'May': 0.3542861651999072, 'January': 0.37775163703116266, 'November': 0.2722057108518383, 'April': 0.2934868953087509, 'July': 0.12800096734113245}\n",
      "\n",
      "Sale Year Data\n",
      "Category Count:  {2018.0: 15, 2019.0: 14, 2020.0: 10}\n",
      "Profit:  {2018.0: [143.39, 230.89, 118.64, 72.09, 98.09, 230.89, 180.34, 146.69, 122.34, 143.39, 180.34, 230.89, 122.34, 118.64, 146.69], 2019.0: [72.09, 98.09, 146.69, 72.09, 122.34, 143.39, 180.34, 122.34, 143.09, 118.64, 143.09, 143.09, 98.09, 180.34], 2020.0: [143.39, 180.34, 230.89, 72.09, 98.09, 146.69, 122.34, 143.39, 180.34, 72.09]}\n",
      "Profit Means:  {2018.0: 152.37666666666667, 2019.0: 127.40785714285714, 2020.0: 138.965}\n",
      "Profit Standard Deviation:  {2018.0: 49.104002116014165, 2019.0: 33.89586772603851, 2020.0: 50.40338530297344}\n",
      "Profit Coefficient Variation:  {2018.0: 0.3222540772822665, 2019.0: 0.26604220874723983, 2020.0: 0.3627056115063033}\n",
      "\n"
     ]
    }
   ],
   "source": [
    "def get_all_profit_data(index):\n",
    "    title = sales_data[0][index]\n",
    "    category_count_dict = get_count_category(index)\n",
    "    profit = get_key_profit_list(index, category_count_dict)\n",
    "    profit_means = get_profit_mean_category_dict(profit)\n",
    "    profit_sd = get_standard_deviation_category(profit)\n",
    "    profit_cv = get_coefficient_variation(profit)\n",
    "\n",
    "    print(title, 'Data')\n",
    "    print('Category Count: ', category_count_dict)\n",
    "    print('Profit: ', profit)\n",
    "    print('Profit Means: ', profit_means)\n",
    "    print('Profit Standard Deviation: ', profit_sd)\n",
    "    print('Profit Coefficient Variation: ', profit_cv)\n",
    "    print()\n",
    "\n",
    "\n",
    "for i in range(3, 17):\n",
    "    if i == 13:\n",
    "        continue\n",
    "    get_all_profit_data(i)"
   ]
  },
  {
   "cell_type": "code",
   "execution_count": 20,
   "metadata": {},
   "outputs": [
    {
     "name": "stdout",
     "output_type": "stream",
     "text": [
      "Age Range Count:  {'0 - 29': 4, '30 - 39': 5, '40 - 49': 15, '50 - 80': 15}\n"
     ]
    }
   ],
   "source": [
    "def get_count_ranged_data(index, max_rang_list):\n",
    "    range_dict = {}\n",
    "    range_index = 0\n",
    "    for i in range(0, len(max_rang_list)):\n",
    "        range_key = str(range_index) + \" - \" + str(max_rang_list[i])\n",
    "        range_index = int(max_rang_list[i]) + 1\n",
    "        range_dict[range_key] = 0\n",
    "    for key in range_dict.keys():\n",
    "        range_list = key.split(\" - \")\n",
    "        lo_range = int(range_list[0])\n",
    "        hi_range = int(range_list[1])\n",
    "\n",
    "        for i in range(1, len(sales_data)):\n",
    "            if lo_range < int(sales_data[i][index]) <= hi_range:\n",
    "                range_dict[key] += 1\n",
    "\n",
    "    return range_dict\n",
    "\n",
    "\n",
    "index_age = get_index_header('Contact Age')\n",
    "count_age = get_count_ranged_data(index_age, [29, 39, 49, 80])\n",
    "print('Age Range Count: ', count_age)\n"
   ]
  },
  {
   "cell_type": "code",
   "execution_count": 21,
   "metadata": {},
   "outputs": [
    {
     "name": "stdout",
     "output_type": "stream",
     "text": [
      "Age Range Profit:  {'0 - 29': [118.64, 146.69, 72.09, 143.09], '30 - 39': [230.89, 72.09, 143.09, 98.09, 72.09], '40 - 49': [143.39, 230.89, 180.34, 180.34, 72.09, 98.09, 146.69, 122.34, 122.34, 118.64, 180.34, 72.09, 98.09, 146.69, 122.34], '50 - 80': [98.09, 122.34, 143.39, 230.89, 122.34, 118.64, 146.69, 143.39, 180.34, 143.09, 180.34, 143.39, 230.89, 143.39, 180.34]}\n"
     ]
    }
   ],
   "source": [
    "def get_profit_ranged_data(index, data_dict):\n",
    "    profit_dict = {}\n",
    "    index_profit = get_index_header('Profit')\n",
    "    for key in data_dict.keys():\n",
    "        profit_dict[key] = []\n",
    "        range_list = key.split(\" - \")\n",
    "        lo_range = int(range_list[0])\n",
    "        hi_range = int(range_list[1])\n",
    "\n",
    "        for i in range(1, len(sales_data)):\n",
    "            if lo_range < int(sales_data[i][index]) <= hi_range:\n",
    "                profit = float(sales_data[i][index_profit])\n",
    "                profit_dict[key].append(profit)\n",
    "\n",
    "    return profit_dict\n",
    "\n",
    "\n",
    "profit_age = get_profit_ranged_data(index_age, count_age)\n",
    "print('Age Range Profit: ', profit_age)"
   ]
  },
  {
   "cell_type": "code",
   "execution_count": 22,
   "metadata": {},
   "outputs": [
    {
     "name": "stdout",
     "output_type": "stream",
     "text": [
      "Age Range Profit Mean:  {'0 - 29': 120.1275, '30 - 39': 123.25, '40 - 49': 135.64666666666668, '50 - 80': 155.17}\n"
     ]
    }
   ],
   "source": [
    "def get_profit_mean_ranged_data(index, data_dict):\n",
    "    profit_mean_dict = {}\n",
    "    for key in data_dict.keys():\n",
    "        profit_mean_dict[key] = mean(*data_dict[key])\n",
    "    return profit_mean_dict\n",
    "\n",
    "print('Age Range Profit Mean: ', get_profit_mean_ranged_data(index_age, profit_age))"
   ]
  },
  {
   "cell_type": "markdown",
   "metadata": {},
   "source": [
    "## Part 4\n",
    "\n",
    "https://www.youtube.com/watch?v=Z99RU56v4bA&list=PLGLfVvz_LVvQjNJr85J4U_lxDg8vgqvcO&index=4&ab_channel=DerekBanas\n"
   ]
  },
  {
   "cell_type": "markdown",
   "metadata": {},
   "source": [
    "#### Standard Normal Distribution\n",
    "\n",
    "-   1 Standard Deviation from Mean/Median has a frequency of 68% \\\n",
    "-   2 Standard Deviations from Mean/Median has a frequency of 95% \\\n",
    "-   3 Standard Deviations from Mean/Median has a frequency of 99.7%\n"
   ]
  },
  {
   "cell_type": "markdown",
   "metadata": {},
   "source": [
    "#### Normal Distribution Rules\n",
    "\n",
    "Mean = Median = Mode \\\n",
    "50% of Values on Each Side of Mean \\\n",
    "Mean of 0 \\\n",
    "Standard Deviation of 1\n"
   ]
  },
  {
   "cell_type": "code",
   "execution_count": 23,
   "metadata": {},
   "outputs": [
    {
     "name": "stdout",
     "output_type": "stream",
     "text": [
      "Dice List:  [1, 2, 4, 4, 4, 5, 5, 5, 6]\n",
      "Mean Dice List:  4.0\n",
      "SD Dice List:  1.5811388300841898\n",
      "\n",
      "Normalized Dice List:  [-1.8973665961010275, -1.2649110640673518, 0.0, 0.0, 0.0, 0.6324555320336759, 0.6324555320336759, 0.6324555320336759, 1.2649110640673518]\n",
      "Mean Normalized Dice List:  1.2335811384723961e-17\n",
      "SD Normalized Dice List:  1.0\n"
     ]
    }
   ],
   "source": [
    "def normalize_list(*args):\n",
    "    mean_val = mean(*args)\n",
    "    stand_dev = standard_deviation(*args)\n",
    "    return [(arg - mean_val) / stand_dev for arg in args]\n",
    "\n",
    "dice_list = [1, 2, 4, 4, 4, 5, 5, 5, 6]\n",
    "dice_normalized = normalize_list(*dice_list)\n",
    "\n",
    "print('Dice List: ', dice_list)\n",
    "print('Mean Dice List: ', mean(*dice_list))\n",
    "print('SD Dice List: ', standard_deviation(*dice_list))\n",
    "print()\n",
    "print('Normalized Dice List: ', dice_normalized)\n",
    "print('Mean Normalized Dice List: ', mean(*dice_normalized))\n",
    "print('SD Normalized Dice List: ', standard_deviation(*dice_normalized))"
   ]
  },
  {
   "cell_type": "markdown",
   "metadata": {},
   "source": [
    "#### Central Limit Theorem\n",
    "\n",
    "-   More Samples Closer you Get to Mean \\\n",
    "-   More Samples Closer to Normal Distribution \\\n",
    "-   Standard Error = $S / \\sqrt{n}$\n",
    "    $$\n",
    "    \\lim_{n \\to \\infty} \\sigma = \\lim_{n \\to \\infty} \\sqrt{\\frac{1}{n - 1} \\sum_{i = 1}^{n} (x_i - \\mu)^2} = 0\n",
    "    $$\n"
   ]
  },
  {
   "cell_type": "code",
   "execution_count": 24,
   "metadata": {},
   "outputs": [
    {
     "name": "stdout",
     "output_type": "stream",
     "text": [
      "Standard Error:  0.3333333333333333\n"
     ]
    }
   ],
   "source": [
    "def standard_error(*args):\n",
    "    return standard_deviation(*args) / math.sqrt(len(args))\n",
    "\n",
    "print('Standard Error: ', standard_error(*dice_normalized))"
   ]
  },
  {
   "cell_type": "markdown",
   "metadata": {},
   "source": [
    "#### Z Score\n",
    "\n",
    "-   Gives the Value in Standard Deviations for the Percentile we want \\\n",
    "-   If we want 95%, it tells us how many Standard Deviations we need\n",
    "\n",
    "$$\n",
    "Z = \\frac{X - \\mu}{\\sigma}\n",
    "$$\n",
    "\n",
    "-   We then use that z-score to find the Area underneath the Standard Normal Distribution Curve from the 0 to X using a Z Table \\\n"
   ]
  },
  {
   "cell_type": "markdown",
   "metadata": {},
   "source": [
    "#### Confidence Intervals\n",
    "\n",
    "-   Point Estimates are Inaccurate \\\n",
    "-   $\\mu_{\\bar{x}} = 5.4, \\mu_{\\bar{x}} = 6.2, \\mu_{\\bar{x}} = 6.8 \\quad \\to \\quad \\text{Interval: } (5, 7)$ \\\n",
    "-   Normal Confidence: 90%, 95%, 99% \\\n",
    "-   90% Confidence: 9 / 10 of Intervals Contain Mean \\\n",
    "-   Doubt $(\\alpha) \\quad \\to \\quad 1 - \\text{Confidence}$\n",
    "-   Critical Probability: $1 - \\alpha / 2$\n",
    "\n",
    "$$\n",
    "(x, y) = \\bar{x} \\pm \\left(\\frac{\\sigma}{\\sqrt{n}}\\right)Z_{\\alpha / 2}\n",
    "$$\n",
    "\n",
    "-   $\\left(\\frac{\\sigma}{\\sqrt{n}}\\right)Z_{\\alpha / 2}$ represents our Margin of Error\n"
   ]
  },
  {
   "cell_type": "markdown",
   "metadata": {},
   "source": [
    "#### Confidence Interval Example\n",
    "\n",
    "-   $\\mu_{\\bar{x}} = 8978814.2$ \\\n",
    "-   $n = 15$ \\\n",
    "-   $\\sigma = 12471425.74$ \\\n",
    "-   Confidence: 0.95 \\\n",
    "-   $\\alpha = 1 - 0.95 = 0.05$ \\\n",
    "-   Critical Probability: $1 - 0.05 / 2 = 0.975$ \\\n",
    "-   Using Critical Probability, the Z-score Table says $Z_{\\alpha / 2} = 1.96$\n",
    "\n",
    "$$\n",
    "(x,y) = 8978814.2 \\pm \\left(\\frac{12471425.74}{\\sqrt{15}}\\right) (1.95) = (2667401.97, 15290226.43)\n",
    "$$\n"
   ]
  },
  {
   "cell_type": "code",
   "execution_count": 25,
   "metadata": {},
   "outputs": [
    {
     "name": "stdout",
     "output_type": "stream",
     "text": [
      "Percentile:  0.99997\n",
      "Z score:  3.98\n"
     ]
    }
   ],
   "source": [
    "z_table = convert_csv_list('z_table.csv')\n",
    "\n",
    "def get_percentile_from_z_table(z_score):\n",
    "    col_num = ((z_score * 100 ) % 10) / 100\n",
    "    row_num = z_score - (col_num)\n",
    "\n",
    "    arr_index = int((row_num * 10) + 1)\n",
    "    inner_arr_index = int(col_num * 100) + 1\n",
    "\n",
    "    if arr_index > len(z_table) or inner_arr_index > len(z_table[arr_index]):\n",
    "        return None\n",
    "\n",
    "    return z_table[arr_index][inner_arr_index]\n",
    "\n",
    "def get_z_score_from_z_table(percentile):\n",
    "    for row in range(1, len(z_table)):\n",
    "        for col in range(1, len(z_table[row])):\n",
    "            percentile_table = z_table[row][col]\n",
    "            if (percentile_table == percentile):\n",
    "                return round(((row - 1) / 10) + ((col - 1) / 100), 2)\n",
    "    return 0\n",
    "\n",
    "print('Percentile: ', get_percentile_from_z_table(3.98))\n",
    "print('Z score: ', get_z_score_from_z_table(0.99997))"
   ]
  },
  {
   "cell_type": "code",
   "execution_count": 26,
   "metadata": {},
   "outputs": [
    {
     "name": "stdout",
     "output_type": "stream",
     "text": [
      "Salary Mean:  8978814.2\n",
      "Salary Confidence:  0.95\n",
      "Salary Standard Deviation:  12471425.73833145\n",
      "Salary Z Confidence Interval:  (2667401.9727653535, 15290226.427234646)\n"
     ]
    }
   ],
   "source": [
    "def get_z_confidence_interval(sample_mean, confidence, sd, n):\n",
    "    alpha_val = 1 - confidence\n",
    "    crit_prob = 1 - (alpha_val / 2)\n",
    "    z_score = get_z_score_from_z_table(crit_prob)\n",
    "    margin_error = (sd / math.sqrt(n)) * z_score\n",
    "    lo_range = sample_mean - margin_error\n",
    "    hi_range = sample_mean + margin_error\n",
    "    return (lo_range, hi_range)\n",
    "\n",
    "\n",
    "salary_list = [38178000, 37800000, 14057730, 11301219, 8349039, 3540000,\n",
    "               2564753, 2564753, 2174318, 2028594, 1845301, 903111,\n",
    "               8111447, 695526, 568422]\n",
    "\n",
    "salary_mean = mean(*salary_list)\n",
    "salary_confidence = 0.95\n",
    "salary_sd = standard_deviation(*salary_list)\n",
    "salary_z_confidence_interval = get_z_confidence_interval(salary_mean, salary_confidence, salary_sd, len(salary_list))\n",
    "\n",
    "print('Salary Mean: ', salary_mean)\n",
    "print('Salary Confidence: ', salary_confidence)\n",
    "print('Salary Standard Deviation: ', salary_sd)\n",
    "print('Salary Z Confidence Interval: ', salary_z_confidence_interval)\n"
   ]
  },
  {
   "cell_type": "code",
   "execution_count": 44,
   "metadata": {},
   "outputs": [
    {
     "name": "stdout",
     "output_type": "stream",
     "text": [
      "(67.0, 67.0)\n",
      "(67.0, 67.0)\n"
     ]
    }
   ],
   "source": [
    "print(get_z_confidence_interval(67, 0.95, 15 / np.sqrt(23), 23))\n",
    "print(get_z_confidence_interval(67, 0.95, 15 / np.sqrt(30), 30))"
   ]
  },
  {
   "cell_type": "markdown",
   "metadata": {},
   "source": [
    "## Part 5\n",
    "\n",
    "https://www.youtube.com/watch?v=jo5utI_yyRo&ab_channel=DerekBanas\n"
   ]
  },
  {
   "cell_type": "markdown",
   "metadata": {},
   "source": [
    "#### Student's T Distribution / T Distribution\n",
    "\n",
    "-   Sample Size is Small and/or Variance is Unknown\n",
    "-   If Standard Deviation is Known, Use Normal Distribution\n",
    "\n",
    "$$\n",
    "(x, y) = \\bar{x} \\pm \\left(\\frac{S}{\\sqrt{n - 1}}\\right) t_{\\alpha / 2}\n",
    "$$\n",
    "\n",
    "-   where, $n - 1$ is the Degrees of Freedom\n"
   ]
  },
  {
   "cell_type": "markdown",
   "metadata": {},
   "source": [
    "#### T Distribution Example\n",
    "\n",
    "They say Break Pads will last 65k km with 95% confidence.\n",
    "\n",
    "We know the following:\n",
    "\n",
    "-   Sample Mean: 62,456.2\n",
    "-   Sample Standard Deviation: 2418.4\n",
    "-   Sample Size: 30\n",
    "    We calculate the following:\n",
    "-   Degrees of Freedom: 30 - 1 = 29\n",
    "-   $\\alpha$: 1 - 0.95 = 0.05\n",
    "-   $\\alpha / 2$ = 0.025\n",
    "-   T Value at (DF: 29, $\\alpha / 2$: 0.025): 2.045\n",
    "\n",
    "$$\n",
    "(x, y) = 62,456.2 \\pm \\left(\\frac{2418.4}{\\sqrt{29}}\\right) 2.045 = (61537.82, 63374.58)\n",
    "$$\n",
    "\n",
    "Thus showing that the Break Pads will NOT last 65k km with 95% confidence.\n"
   ]
  },
  {
   "cell_type": "code",
   "execution_count": 27,
   "metadata": {},
   "outputs": [
    {
     "name": "stdout",
     "output_type": "stream",
     "text": [
      "2.045\n",
      "{'df': 29.0, 'alpha': 0.025}\n"
     ]
    }
   ],
   "source": [
    "t_table = convert_csv_list('t_table.csv')\n",
    "\n",
    "def get_percentile_from_t_table(df, alpha):\n",
    "    row_index = 1\n",
    "    while row_index < len(t_table):\n",
    "        if t_table[row_index][0] == df:\n",
    "            break\n",
    "        row_index += 1\n",
    "\n",
    "    col_index = 1\n",
    "    while col_index < len(t_table[0]):\n",
    "        if t_table[0][col_index] == alpha:\n",
    "            break\n",
    "        col_index += 1\n",
    "\n",
    "    if row_index == len(t_table) or col_index == len(t_table[0]):\n",
    "        return None\n",
    "\n",
    "    return t_table[row_index][col_index]\n",
    "\n",
    "def get_df_alpha_from_t_table(percentile):\n",
    "    for row in range(0, len(t_table)):\n",
    "        for col in range(0, len(t_table[row])):\n",
    "            if t_table[row][col] == percentile:\n",
    "                return {'df' : t_table[row][0], 'alpha' : t_table[0][col]}\n",
    "\n",
    "print(get_percentile_from_t_table(29, 0.025))\n",
    "print(get_df_alpha_from_t_table(2.045))"
   ]
  },
  {
   "cell_type": "code",
   "execution_count": 28,
   "metadata": {},
   "outputs": [
    {
     "name": "stdout",
     "output_type": "stream",
     "text": [
      "Break Pad Mean:  60000.0\n",
      "Break Pad Confidence:  0.95\n",
      "Break Pad Standard Deviation:  1988.1782192698288\n",
      "Break Pad Z Confidence Interval:  (59128.642476664325, 60871.357523335675)\n",
      "Break Pad T Confidence Interval:  (59045.34216855424, 60954.65783144576)\n"
     ]
    }
   ],
   "source": [
    "def get_t_confidence_interval(confidence, *args):\n",
    "    sample_mean = mean(*args)\n",
    "    sample_sd = standard_deviation(*args)\n",
    "    n = len(args)\n",
    "    degree_freedom = n - 1\n",
    "    alpha = 1 - confidence\n",
    "    t_val = get_percentile_from_t_table(degree_freedom, round(alpha / 2, 3))\n",
    "    lo_range = sample_mean - ((sample_sd / math.sqrt(degree_freedom)) * t_val)\n",
    "    hi_range = sample_mean + ((sample_sd / math.sqrt(degree_freedom)) * t_val)\n",
    "    return (lo_range, hi_range)\n",
    "\n",
    "\n",
    "break_pad_kms = [58500, 58700, 62800, 57220, 62750, 59370, 57720, 60920, 61910, 59260, 63550, 60520, 58710, 57340, 60660, 57750, 60430, 60050, 62970, 58870]\n",
    "\n",
    "break_pad_mean = mean(*break_pad_kms)\n",
    "break_pad_confidence = 0.95\n",
    "break_pad_sd = standard_deviation(*break_pad_kms)\n",
    "break_pad_z_confidence_interval = get_z_confidence_interval(break_pad_mean, break_pad_confidence, break_pad_sd, len(break_pad_kms))\n",
    "break_pad_t_confidence_interval = get_t_confidence_interval(break_pad_confidence, *break_pad_kms)\n",
    "\n",
    "print('Break Pad Mean: ', break_pad_mean)\n",
    "print('Break Pad Confidence: ', break_pad_confidence)\n",
    "print('Break Pad Standard Deviation: ', break_pad_sd)\n",
    "print('Break Pad Z Confidence Interval: ', break_pad_z_confidence_interval)\n",
    "print('Break Pad T Confidence Interval: ', break_pad_t_confidence_interval)\n"
   ]
  },
  {
   "cell_type": "markdown",
   "metadata": {},
   "source": [
    "#### Hypotheses\n",
    "\n",
    "-   Null Hypothesis: $A < x < B$\n",
    "-   Alternative Hypothesis: $y < A$ OR $y > B$\n",
    "-   Significance Level ($\\alpha$): The probability of rejecting the null hypothesis ($H_0$) when its true\n",
    "-   Common $\\alpha$ values: 0.01, 0.05, 0.1\n",
    "-   If $\\bar{x} = \\mu$, then $Z = 0$\n"
   ]
  },
  {
   "cell_type": "markdown",
   "metadata": {},
   "source": [
    "## Part 6\n",
    "\n",
    "https://www.youtube.com/watch?v=fD6Di78SxGU&list=PLGLfVvz_LVvQjNJr85J4U_lxDg8vgqvcO&index=7&t=10s&ab_channel=DerekBanas\n"
   ]
  },
  {
   "cell_type": "code",
   "execution_count": 29,
   "metadata": {},
   "outputs": [
    {
     "name": "stdout",
     "output_type": "stream",
     "text": [
      "Break Pad Error:  444.57016496718194\n",
      "Break Pad Z Score:  8.997454879355836\n"
     ]
    }
   ],
   "source": [
    "break_pad_population_mean = 64000\n",
    "break_pad_error = standard_error(*break_pad_kms)\n",
    "break_pad_z_score = abs((break_pad_mean - break_pad_population_mean) / break_pad_error)\n",
    "\n",
    "print('Break Pad Error: ', break_pad_error)\n",
    "print('Break Pad Z Score: ', break_pad_z_score)"
   ]
  },
  {
   "cell_type": "markdown",
   "metadata": {},
   "source": [
    "-   Sample Z Score = 8.99 \\\n",
    "-   Confidence = 0.95 \\\n",
    "-   $\\alpha / 2$ = 0.025 \\\n",
    "-   Z Score based on Table: 1.96 \\\n",
    "-   Reject Null HYpothesis if Sample Z Score > Actual: (8.99 > 1.96)\n"
   ]
  },
  {
   "cell_type": "markdown",
   "metadata": {},
   "source": [
    "#### P-Value:\n",
    "\n",
    "Smallest Level of Significance at Which we Reject the Hypothesis\n",
    "\n",
    "Example: \\\n",
    "\n",
    "-   Hypothesis: 61,750 km \\\n",
    "-   1 Sided Critical Probability: 1 - 0.99996 = 0.00004 \\\n",
    "-   1 Sided Critical Probability: 2(1 - 0.99996) = 0.00008\n"
   ]
  },
  {
   "cell_type": "code",
   "execution_count": 30,
   "metadata": {},
   "outputs": [
    {
     "name": "stdout",
     "output_type": "stream",
     "text": [
      "Break Pad Z Score:  0.0\n",
      "Break Pad Z Score:  0.0\n",
      "Break Pad Critical Probability:  0.5\n"
     ]
    }
   ],
   "source": [
    "break_pad_population_mean = 60000\n",
    "break_pad_z_score = abs((break_pad_mean - break_pad_population_mean) / break_pad_error)\n",
    "print('Break Pad Z Score: ', break_pad_z_score)\n",
    "\n",
    "break_pad_critical_prob = 1 - (get_percentile_from_z_table(break_pad_z_score))\n",
    "\n",
    "print('Break Pad Z Score: ', break_pad_z_score)\n",
    "print('Break Pad Critical Probability: ', break_pad_critical_prob)"
   ]
  },
  {
   "cell_type": "markdown",
   "metadata": {},
   "source": [
    "## Part 7\n",
    "\n",
    "https://www.youtube.com/watch?v=9NbTYeNadOc&list=PLGLfVvz_LVvQjNJr85J4U_lxDg8vgqvcO&index=7&ab_channel=DerekBanas\n"
   ]
  },
  {
   "cell_type": "markdown",
   "metadata": {},
   "source": [
    "#### Regression Analysis\n",
    "\n",
    "-   Examine Relationship between 2 or more variables\n",
    "-   Which Factors Matter the Most\n",
    "-   Which Factors can be Ignored\n"
   ]
  },
  {
   "cell_type": "markdown",
   "metadata": {},
   "source": [
    "#### Ordinary Least Squares\n",
    "\n",
    "-   Minimize Dependent Samples to Estimate Unknowns\n",
    "-   $y = \\beta_0 + \\beta_1x + \\beta_2x^2 + ... + \\beta_nx^n$\n",
    "\n",
    "$$\n",
    "\\beta_0 = \\bar{y} - \\beta_1 \\bar{x} \\qquad \\qquad \\beta_1 = \\frac{\\sum_{i = 1}^{n} (x_i - \\bar{x})(y_i - \\bar{y})}{\\sum_{i = 1}^{n} (x_i - \\bar{x})^2}\n",
    "$$\n"
   ]
  },
  {
   "cell_type": "code",
   "execution_count": 31,
   "metadata": {},
   "outputs": [
    {
     "name": "stdout",
     "output_type": "stream",
     "text": [
      "Linear Regression:  5.958120637566413 x +  35.561621002187735\n",
      "Correlation Coefficient:  0.9618132864413081\n"
     ]
    }
   ],
   "source": [
    "def get_linear_regression(x_vals, y_vals):\n",
    "    if len(x_vals) != len(y_vals):\n",
    "        return None\n",
    "\n",
    "    mean_x = mean(*x_vals)\n",
    "    mean_y = mean(*y_vals)\n",
    "    slope_numerator = sum([(x_vals[i] - mean_x) * (y_vals[i] - mean_y) for i in range(0, len(x_vals))])\n",
    "    slope_denominator = sum([(x_vals[i] - mean_x) ** 2 for i in range(0, len(x_vals))])\n",
    "    slope_b1 = slope_numerator / slope_denominator\n",
    "    y_int_b0 = mean_y - (slope_b1 * mean_x)\n",
    "\n",
    "    return (slope_b1, y_int_b0)\n",
    "\n",
    "temp_sales_day_list = [[37, 292], [40, 228], [49, 324], [61, 376], [72, 440], [79, 496], [83, 536], [81, 556], [75, 496], [64, 412], [53, 324], [40, 320]]\n",
    "temp_sales_sep_list = [[37, 40, 49, 61, 72, 79, 83, 81, 75, 64, 53, 40], [292, 228, 324, 376, 440, 496, 536, 556, 496, 412, 324, 320]]\n",
    "\n",
    "temp_sales_linear_regression = get_linear_regression(temp_sales_sep_list[0], temp_sales_sep_list[1])\n",
    "print('Linear Regression: ', temp_sales_linear_regression[0], 'x + ', temp_sales_linear_regression[1])\n",
    "print('Correlation Coefficient: ', correlation_coefficient(temp_sales_sep_list[0], temp_sales_sep_list[1]))"
   ]
  },
  {
   "cell_type": "code",
   "execution_count": 32,
   "metadata": {},
   "outputs": [
    {
     "name": "stdout",
     "output_type": "stream",
     "text": [
      "Correlation Coefficient:  0.9999999999999998\n"
     ]
    }
   ],
   "source": [
    "def get_points(slope, y_int, x_vals):\n",
    "    return [slope * x + y_int for x in x_vals]\n",
    "\n",
    "print('Correlation Coefficient: ', correlation_coefficient(temp_sales_sep_list[0],  \\\n",
    "    get_points(temp_sales_linear_regression[0], temp_sales_linear_regression[1], temp_sales_sep_list[0])))"
   ]
  },
  {
   "cell_type": "markdown",
   "metadata": {},
   "source": [
    "## Part 8\n",
    "\n",
    "https://www.youtube.com/watch?v=nS-z5JgqNe0&list=PLGLfVvz_LVvQjNJr85J4U_lxDg8vgqvcO&index=10&ab_channel=DerekBanas\n"
   ]
  },
  {
   "cell_type": "code",
   "execution_count": 33,
   "metadata": {},
   "outputs": [
    {
     "data": {
      "text/html": [
       "<div>\n",
       "<style scoped>\n",
       "    .dataframe tbody tr th:only-of-type {\n",
       "        vertical-align: middle;\n",
       "    }\n",
       "\n",
       "    .dataframe tbody tr th {\n",
       "        vertical-align: top;\n",
       "    }\n",
       "\n",
       "    .dataframe thead th {\n",
       "        text-align: right;\n",
       "    }\n",
       "</style>\n",
       "<table border=\"1\" class=\"dataframe\">\n",
       "  <thead>\n",
       "    <tr style=\"text-align: right;\">\n",
       "      <th></th>\n",
       "      <th>Temperature</th>\n",
       "      <th>Sales</th>\n",
       "    </tr>\n",
       "  </thead>\n",
       "  <tbody>\n",
       "    <tr>\n",
       "      <th>count</th>\n",
       "      <td>12.000000</td>\n",
       "      <td>12.000000</td>\n",
       "    </tr>\n",
       "    <tr>\n",
       "      <th>mean</th>\n",
       "      <td>61.166667</td>\n",
       "      <td>400.000000</td>\n",
       "    </tr>\n",
       "    <tr>\n",
       "      <th>std</th>\n",
       "      <td>17.055169</td>\n",
       "      <td>105.651227</td>\n",
       "    </tr>\n",
       "    <tr>\n",
       "      <th>min</th>\n",
       "      <td>37.000000</td>\n",
       "      <td>228.000000</td>\n",
       "    </tr>\n",
       "    <tr>\n",
       "      <th>25%</th>\n",
       "      <td>46.750000</td>\n",
       "      <td>323.000000</td>\n",
       "    </tr>\n",
       "    <tr>\n",
       "      <th>50%</th>\n",
       "      <td>62.500000</td>\n",
       "      <td>394.000000</td>\n",
       "    </tr>\n",
       "    <tr>\n",
       "      <th>75%</th>\n",
       "      <td>76.000000</td>\n",
       "      <td>496.000000</td>\n",
       "    </tr>\n",
       "    <tr>\n",
       "      <th>max</th>\n",
       "      <td>83.000000</td>\n",
       "      <td>556.000000</td>\n",
       "    </tr>\n",
       "  </tbody>\n",
       "</table>\n",
       "</div>"
      ],
      "text/plain": [
       "       Temperature       Sales\n",
       "count    12.000000   12.000000\n",
       "mean     61.166667  400.000000\n",
       "std      17.055169  105.651227\n",
       "min      37.000000  228.000000\n",
       "25%      46.750000  323.000000\n",
       "50%      62.500000  394.000000\n",
       "75%      76.000000  496.000000\n",
       "max      83.000000  556.000000"
      ]
     },
     "execution_count": 33,
     "metadata": {},
     "output_type": "execute_result"
    }
   ],
   "source": [
    "ice_cream_sales = pd.read_csv('icecreamsales.csv')\n",
    "ice_cream_sales.describe()"
   ]
  },
  {
   "cell_type": "code",
   "execution_count": 34,
   "metadata": {},
   "outputs": [
    {
     "data": {
      "image/png": "[encoded data removed]",
      "text/plain": [
       "<Figure size 640x480 with 1 Axes>"
      ]
     },
     "metadata": {},
     "output_type": "display_data"
    }
   ],
   "source": [
    "x1 = ice_cream_sales['Temperature']\n",
    "y = ice_cream_sales['Sales']\n",
    "plt.scatter(x1, y)\n",
    "plt.xlabel('Temperature', fontsize=10)\n",
    "plt.ylabel('Sales', fontsize=10)\n",
    "plt.show()"
   ]
  },
  {
   "cell_type": "code",
   "execution_count": 35,
   "metadata": {},
   "outputs": [
    {
     "name": "stderr",
     "output_type": "stream",
     "text": [
      "/home/stepheng753/.anaconda3/lib/python3.12/site-packages/scipy/stats/_axis_nan_policy.py:531: UserWarning: kurtosistest only valid for n>=20 ... continuing anyway, n=12\n",
      "  res = hypotest_fun_out(*samples, **kwds)\n"
     ]
    },
    {
     "data": {
      "text/html": [
       "<table class=\"simpletable\">\n",
       "<caption>OLS Regression Results</caption>\n",
       "<tr>\n",
       "  <th>Dep. Variable:</th>          <td>Sales</td>      <th>  R-squared:         </th> <td>   0.925</td>\n",
       "</tr>\n",
       "<tr>\n",
       "  <th>Model:</th>                   <td>OLS</td>       <th>  Adj. R-squared:    </th> <td>   0.918</td>\n",
       "</tr>\n",
       "<tr>\n",
       "  <th>Method:</th>             <td>Least Squares</td>  <th>  F-statistic:       </th> <td>   123.5</td>\n",
       "</tr>\n",
       "<tr>\n",
       "  <th>Date:</th>             <td>Mon, 21 Oct 2024</td> <th>  Prob (F-statistic):</th> <td>6.00e-07</td>\n",
       "</tr>\n",
       "<tr>\n",
       "  <th>Time:</th>                 <td>12:04:43</td>     <th>  Log-Likelihood:    </th> <td> -56.879</td>\n",
       "</tr>\n",
       "<tr>\n",
       "  <th>No. Observations:</th>      <td>    12</td>      <th>  AIC:               </th> <td>   117.8</td>\n",
       "</tr>\n",
       "<tr>\n",
       "  <th>Df Residuals:</th>          <td>    10</td>      <th>  BIC:               </th> <td>   118.7</td>\n",
       "</tr>\n",
       "<tr>\n",
       "  <th>Df Model:</th>              <td>     1</td>      <th>                     </th>     <td> </td>   \n",
       "</tr>\n",
       "<tr>\n",
       "  <th>Covariance Type:</th>      <td>nonrobust</td>    <th>                     </th>     <td> </td>   \n",
       "</tr>\n",
       "</table>\n",
       "<table class=\"simpletable\">\n",
       "<tr>\n",
       "       <td></td>          <th>coef</th>     <th>std err</th>      <th>t</th>      <th>P>|t|</th>  <th>[0.025</th>    <th>0.975]</th>  \n",
       "</tr>\n",
       "<tr>\n",
       "  <th>const</th>       <td>   35.5616</td> <td>   33.944</td> <td>    1.048</td> <td> 0.319</td> <td>  -40.071</td> <td>  111.194</td>\n",
       "</tr>\n",
       "<tr>\n",
       "  <th>Temperature</th> <td>    5.9581</td> <td>    0.536</td> <td>   11.112</td> <td> 0.000</td> <td>    4.763</td> <td>    7.153</td>\n",
       "</tr>\n",
       "</table>\n",
       "<table class=\"simpletable\">\n",
       "<tr>\n",
       "  <th>Omnibus:</th>       <td> 0.698</td> <th>  Durbin-Watson:     </th> <td>   1.869</td>\n",
       "</tr>\n",
       "<tr>\n",
       "  <th>Prob(Omnibus):</th> <td> 0.705</td> <th>  Jarque-Bera (JB):  </th> <td>   0.622</td>\n",
       "</tr>\n",
       "<tr>\n",
       "  <th>Skew:</th>          <td> 0.221</td> <th>  Prob(JB):          </th> <td>   0.733</td>\n",
       "</tr>\n",
       "<tr>\n",
       "  <th>Kurtosis:</th>      <td> 1.976</td> <th>  Cond. No.          </th> <td>    246.</td>\n",
       "</tr>\n",
       "</table><br/><br/>Notes:<br/>[1] Standard Errors assume that the covariance matrix of the errors is correctly specified."
      ],
      "text/latex": [
       "\\begin{center}\n",
       "\\begin{tabular}{lclc}\n",
       "\\toprule\n",
       "\\textbf{Dep. Variable:}    &      Sales       & \\textbf{  R-squared:         } &     0.925   \\\\\n",
       "\\textbf{Model:}            &       OLS        & \\textbf{  Adj. R-squared:    } &     0.918   \\\\\n",
       "\\textbf{Method:}           &  Least Squares   & \\textbf{  F-statistic:       } &     123.5   \\\\\n",
       "\\textbf{Date:}             & Mon, 21 Oct 2024 & \\textbf{  Prob (F-statistic):} &  6.00e-07   \\\\\n",
       "\\textbf{Time:}             &     12:04:43     & \\textbf{  Log-Likelihood:    } &   -56.879   \\\\\n",
       "\\textbf{No. Observations:} &          12      & \\textbf{  AIC:               } &     117.8   \\\\\n",
       "\\textbf{Df Residuals:}     &          10      & \\textbf{  BIC:               } &     118.7   \\\\\n",
       "\\textbf{Df Model:}         &           1      & \\textbf{                     } &             \\\\\n",
       "\\textbf{Covariance Type:}  &    nonrobust     & \\textbf{                     } &             \\\\\n",
       "\\bottomrule\n",
       "\\end{tabular}\n",
       "\\begin{tabular}{lcccccc}\n",
       "                     & \\textbf{coef} & \\textbf{std err} & \\textbf{t} & \\textbf{P$> |$t$|$} & \\textbf{[0.025} & \\textbf{0.975]}  \\\\\n",
       "\\midrule\n",
       "\\textbf{const}       &      35.5616  &       33.944     &     1.048  &         0.319        &      -40.071    &      111.194     \\\\\n",
       "\\textbf{Temperature} &       5.9581  &        0.536     &    11.112  &         0.000        &        4.763    &        7.153     \\\\\n",
       "\\bottomrule\n",
       "\\end{tabular}\n",
       "\\begin{tabular}{lclc}\n",
       "\\textbf{Omnibus:}       &  0.698 & \\textbf{  Durbin-Watson:     } &    1.869  \\\\\n",
       "\\textbf{Prob(Omnibus):} &  0.705 & \\textbf{  Jarque-Bera (JB):  } &    0.622  \\\\\n",
       "\\textbf{Skew:}          &  0.221 & \\textbf{  Prob(JB):          } &    0.733  \\\\\n",
       "\\textbf{Kurtosis:}      &  1.976 & \\textbf{  Cond. No.          } &     246.  \\\\\n",
       "\\bottomrule\n",
       "\\end{tabular}\n",
       "%\\caption{OLS Regression Results}\n",
       "\\end{center}\n",
       "\n",
       "Notes: \\newline\n",
       " [1] Standard Errors assume that the covariance matrix of the errors is correctly specified."
      ],
      "text/plain": [
       "<class 'statsmodels.iolib.summary.Summary'>\n",
       "\"\"\"\n",
       "                            OLS Regression Results                            \n",
       "==============================================================================\n",
       "Dep. Variable:                  Sales   R-squared:                       0.925\n",
       "Model:                            OLS   Adj. R-squared:                  0.918\n",
       "Method:                 Least Squares   F-statistic:                     123.5\n",
       "Date:                Mon, 21 Oct 2024   Prob (F-statistic):           6.00e-07\n",
       "Time:                        12:04:43   Log-Likelihood:                -56.879\n",
       "No. Observations:                  12   AIC:                             117.8\n",
       "Df Residuals:                      10   BIC:                             118.7\n",
       "Df Model:                           1                                         \n",
       "Covariance Type:            nonrobust                                         \n",
       "===============================================================================\n",
       "                  coef    std err          t      P>|t|      [0.025      0.975]\n",
       "-------------------------------------------------------------------------------\n",
       "const          35.5616     33.944      1.048      0.319     -40.071     111.194\n",
       "Temperature     5.9581      0.536     11.112      0.000       4.763       7.153\n",
       "==============================================================================\n",
       "Omnibus:                        0.698   Durbin-Watson:                   1.869\n",
       "Prob(Omnibus):                  0.705   Jarque-Bera (JB):                0.622\n",
       "Skew:                           0.221   Prob(JB):                        0.733\n",
       "Kurtosis:                       1.976   Cond. No.                         246.\n",
       "==============================================================================\n",
       "\n",
       "Notes:\n",
       "[1] Standard Errors assume that the covariance matrix of the errors is correctly specified.\n",
       "\"\"\""
      ]
     },
     "execution_count": 35,
     "metadata": {},
     "output_type": "execute_result"
    }
   ],
   "source": [
    "x = sm.add_constant(x1)\n",
    "results = sm.OLS(y, x).fit()\n",
    "results.summary()"
   ]
  },
  {
   "cell_type": "code",
   "execution_count": 36,
   "metadata": {},
   "outputs": [
    {
     "data": {
      "image/png": "[encoded data removed]",
      "text/plain": [
       "<Figure size 640x480 with 1 Axes>"
      ]
     },
     "metadata": {},
     "output_type": "display_data"
    }
   ],
   "source": [
    "plt.scatter(x1, y)\n",
    "y_hat = temp_sales_linear_regression[0] * x1 + temp_sales_linear_regression[1]\n",
    "fig = plt.plot(x1, y_hat, lw=3, c='orange')\n",
    "plt.xlabel('Temperature', fontsize=10)\n",
    "plt.ylabel('Sales', fontsize=10)\n",
    "plt.title('Regression Line', fontsize=10)\n",
    "plt.show()"
   ]
  },
  {
   "cell_type": "markdown",
   "metadata": {},
   "source": [
    "## Part 9\n",
    "\n",
    "https://www.youtube.com/watch?v=MltSxtX0sA0&list=PLGLfVvz_LVvQjNJr85J4U_lxDg8vgqvcO&index=11&ab_channel=DerekBanas\n"
   ]
  },
  {
   "cell_type": "markdown",
   "metadata": {},
   "source": [
    "#### Root Mean Squared Deviation\n",
    "\n",
    "-   Difference Between Samples and the Regression Line\n",
    "-   The 68% of Sample Points, or 1 Standard Deviation from the Mean, will be off $\\pm RMSD$ versus the Regression Line\n",
    "\n",
    "$$\n",
    "RMSD = \\sqrt{\\frac{\\sum_{i = 1}^n (y_i - \\hat{y_i})^2}{n - 1}}\n",
    "$$\n",
    "\n",
    "where $\\hat{y_i}$ is the y value at $x_i$ correlating to the regression line\n"
   ]
  },
  {
   "cell_type": "code",
   "execution_count": 37,
   "metadata": {},
   "outputs": [
    {
     "name": "stdout",
     "output_type": "stream",
     "text": [
      "Root Mean Square:  28.864889020777788\n"
     ]
    }
   ],
   "source": [
    "def root_mean_square_deviation(*args):\n",
    "    if len(args[0]) != len(args[1]) or len(args[0]) <= 1:\n",
    "        return None\n",
    "\n",
    "    y_vals = args[0]\n",
    "    y_regression = args[1]\n",
    "    n = len(y_vals)\n",
    "    RMSD_numerator = sum([(y_vals[i] - y_regression[i]) ** 2 for i in range(0, n)])\n",
    "    RMSD_denominator = n - 1\n",
    "    return math.sqrt(RMSD_numerator / RMSD_denominator)\n",
    "\n",
    "\n",
    "sample_regression_list = [[292, 228, 324, 376, 440, 496, 536, 556, 496, 412, 324, 320], [256, 273, 327, 399, 464, 506, 530, 518, 482, 416, 351, 273]]\n",
    "RMSD = root_mean_square_deviation(*sample_regression_list)\n",
    "print('Root Mean Square: ', RMSD)"
   ]
  },
  {
   "cell_type": "code",
   "execution_count": 38,
   "metadata": {},
   "outputs": [
    {
     "data": {
      "image/png": "[encoded data removed]",
      "text/plain": [
       "<Figure size 640x480 with 1 Axes>"
      ]
     },
     "metadata": {},
     "output_type": "display_data"
    }
   ],
   "source": [
    "plt.scatter(x1, y)\n",
    "\n",
    "colors = ['green', 'red', 'blue']\n",
    "for i in range(0, 3):\n",
    "    RMSD_y = y_hat + i * RMSD\n",
    "    plt.plot(x1, RMSD_y, lw=2, c=colors[i])\n",
    "\n",
    "    RMSD_y = y_hat - i * RMSD\n",
    "    plt.plot(x1, RMSD_y, lw=2, c=colors[i])\n",
    "\n",
    "plt.xlabel('Temperature', fontsize=10)\n",
    "plt.ylabel('Sales', fontsize=10)\n",
    "plt.title('Regression Line', fontsize=10)\n",
    "plt.show()"
   ]
  },
  {
   "cell_type": "markdown",
   "metadata": {},
   "source": [
    "#### Chi Square Test\n",
    "\n",
    "-   Conditions: Random, Large ($x_i > 5$), Independent\n",
    "-   Chi Square Test of Homogeneity:\n",
    "    -   Relationship Between Different Categories of Variables\n",
    "    -   Sample 2 Groups to Compare Probability Distributions\n",
    "-   Expected Value: Row_Total \\* Col_Total / Total\n",
    "-   Degrees of Freedom: (Num_Rows - 1) \\* (Num_Cols - 1)\n",
    "\n",
    "$$\n",
    "\\chi^2 = \\sum_{i = 1}^n \\frac{(x_i - \\hat{x_i}) ^ 2}{\\hat{x_i}}\n",
    "$$\n",
    "\n",
    "where $x_i$ is the Observed Value and $\\hat{x_i}$ is the Expected Value\n"
   ]
  },
  {
   "cell_type": "code",
   "execution_count": 39,
   "metadata": {},
   "outputs": [
    {
     "name": "stdout",
     "output_type": "stream",
     "text": [
      "Confidence:  0.995\n"
     ]
    }
   ],
   "source": [
    "chi_sq_table = convert_csv_list('chi_sq_table.csv')\n",
    "\n",
    "def get_confidence_chi_sq_table(df, chi_square):\n",
    "    if df >= len(chi_sq_table):\n",
    "        return None\n",
    "\n",
    "    row = chi_sq_table[df]\n",
    "    for col in range(0, len(row)):\n",
    "        if chi_square <= row[col]:\n",
    "            return 1 - chi_sq_table[0][col]\n",
    "\n",
    "print('Confidence: ', get_confidence_chi_sq_table(3, 11.59))"
   ]
  },
  {
   "cell_type": "code",
   "execution_count": 40,
   "metadata": {},
   "outputs": [
    {
     "name": "stdout",
     "output_type": "stream",
     "text": [
      "Sports Degree Freedom:  3\n",
      "Sports Chi Square Test:  9.307302948767477\n",
      "Sports Confidence:  0.975\n"
     ]
    }
   ],
   "source": [
    "def chi_square_test(*args):\n",
    "    if len(args[0]) != len(args[1]):\n",
    "        return None\n",
    "\n",
    "    num_rows = len(args)\n",
    "    num_cols = len(args[0])\n",
    "    df = (num_rows - 1) * (num_cols - 1)\n",
    "    total_column = [0 for i in range(0, num_cols)]\n",
    "    total_row = []\n",
    "    for row in range(0, num_rows):\n",
    "        total_row.append(sum(args[row]))\n",
    "        for col in range(0, num_cols):\n",
    "            total_column[col] += args[row][col]\n",
    "    total_elements = sum(total_row)\n",
    "\n",
    "    expected_values = []\n",
    "    for row in range(0, num_rows):\n",
    "        expected_row = []\n",
    "        for col in range(0, num_cols):\n",
    "            expected_row.append(total_row[row] * total_column[col] / total_elements)\n",
    "        expected_values.append(expected_row)\n",
    "\n",
    "    chi_square = 0\n",
    "    for row in range(0, num_rows):\n",
    "        for col in range(0, num_cols):\n",
    "            chi_square += ((args[row][col] - expected_values[row][col]) ** 2) / expected_values[row][col]\n",
    "\n",
    "    return df, chi_square\n",
    "\n",
    "\n",
    "\n",
    "\n",
    "\n",
    "fav_sport_lists = [[23, 12, 24, 7], [12, 13, 45, 6]]\n",
    "sports_df = chi_square_test(*fav_sport_lists)[0]\n",
    "sports_chi_square = chi_square_test(*fav_sport_lists)[1]\n",
    "print('Sports Degree Freedom: ', sports_df)\n",
    "print('Sports Chi Square Test: ', sports_chi_square)\n",
    "print('Sports Confidence: ', get_confidence_chi_sq_table(sports_df, sports_chi_square))"
   ]
  }
 ],
 "metadata": {
  "kernelspec": {
   "display_name": "base",
   "language": "python",
   "name": "python3"
  },
  "language_info": {
   "codemirror_mode": {
    "name": "ipython",
    "version": 3
   },
   "file_extension": ".py",
   "mimetype": "text/x-python",
   "name": "python",
   "nbconvert_exporter": "python",
   "pygments_lexer": "ipython3",
   "version": "3.12.4"
  },
  "orig_nbformat": 4
 },
 "nbformat": 4,
 "nbformat_minor": 2
}
